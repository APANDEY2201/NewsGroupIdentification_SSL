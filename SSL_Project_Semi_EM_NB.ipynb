{
  "nbformat": 4,
  "nbformat_minor": 0,
  "metadata": {
    "colab": {
      "name": "SSL_Project_Semi_EM_NB.ipynb",
      "provenance": [],
      "collapsed_sections": [],
      "include_colab_link": true
    },
    "kernelspec": {
      "name": "python3",
      "display_name": "Python 3"
    },
    "language_info": {
      "name": "python"
    }
  },
  "cells": [
    {
      "cell_type": "markdown",
      "metadata": {
        "id": "view-in-github",
        "colab_type": "text"
      },
      "source": [
        "<a href=\"https://colab.research.google.com/github/APANDEY2201/NewsGroupIdentification_SSL/blob/main/SSL_Project_Semi_EM_NB.ipynb\" target=\"_parent\"><img src=\"https://colab.research.google.com/assets/colab-badge.svg\" alt=\"Open In Colab\"/></a>"
      ]
    },
    {
      "cell_type": "code",
      "metadata": {
        "id": "9KYAhsEioKq_"
      },
      "source": [
        "import numpy as np\n",
        "import pandas as pd\n",
        "import sklearn\n",
        "from sklearn.datasets import fetch_20newsgroups"
      ],
      "execution_count": 1,
      "outputs": []
    },
    {
      "cell_type": "code",
      "metadata": {
        "id": "P8-4EKKdoRlY",
        "colab": {
          "base_uri": "https://localhost:8080/"
        },
        "outputId": "69cb3987-254a-40b5-cf95-f44f62d88793"
      },
      "source": [
        "newsgroups_train = fetch_20newsgroups(subset='train',remove=('headers', 'footers', 'quotes'))\n",
        "newsgroups_test = fetch_20newsgroups(subset='test',remove=('headers', 'footers', 'quotes'))\n",
        "\n",
        "class_names = newsgroups_train.target_names"
      ],
      "execution_count": 2,
      "outputs": [
        {
          "output_type": "stream",
          "text": [
            "Downloading 20news dataset. This may take a few minutes.\n",
            "Downloading dataset from https://ndownloader.figshare.com/files/5975967 (14 MB)\n"
          ],
          "name": "stderr"
        }
      ]
    },
    {
      "cell_type": "code",
      "metadata": {
        "id": "kVzkRTKSodz5"
      },
      "source": [
        "# Finding frequency of each category\n",
        "targets, frequency = np.unique(newsgroups_train.target, return_counts=True)\n",
        "targets_str = np.array(newsgroups_train.target_names)"
      ],
      "execution_count": 3,
      "outputs": []
    },
    {
      "cell_type": "code",
      "metadata": {
        "id": "HE_3n7oWpSbj"
      },
      "source": [
        "newsgroups_train_df = pd.DataFrame({'data': newsgroups_train.data, 'target': newsgroups_train.target})"
      ],
      "execution_count": 8,
      "outputs": []
    },
    {
      "cell_type": "code",
      "metadata": {
        "id": "je9fvZJ5FnwG"
      },
      "source": [
        "newsgroups_test_df = pd.DataFrame({'data': newsgroups_test.data, 'target': newsgroups_test.target})"
      ],
      "execution_count": 9,
      "outputs": []
    },
    {
      "cell_type": "code",
      "metadata": {
        "id": "lqw9D5vnp4xE"
      },
      "source": [
        "from sklearn.model_selection import train_test_split\n",
        "\n",
        "newsgroups_split_unlabelled, newsgroups_split_labelled = train_test_split(newsgroups_train_df,train_size = 0.7, random_state = 42, shuffle = True)\n",
        "newsgroups_split_unlabelled = newsgroups_split_unlabelled.drop('target', axis = 1)\n",
        "# newsgroups_train_df = pd.concat([newsgroups_split_train, newsgroups_split_test], axis=0)"
      ],
      "execution_count": 11,
      "outputs": []
    },
    {
      "cell_type": "code",
      "metadata": {
        "colab": {
          "base_uri": "https://localhost:8080/"
        },
        "id": "K8eg89g1ZyWm",
        "outputId": "0b9e0d36-4270-475c-d97c-2d402c0b74d1"
      },
      "source": [
        "y_train = newsgroups_split_labelled['target']\n",
        "y_train"
      ],
      "execution_count": 149,
      "outputs": [
        {
          "output_type": "execute_result",
          "data": {
            "text/plain": [
              "7492     4\n",
              "3546     2\n",
              "5582     6\n",
              "4793    16\n",
              "3813    10\n",
              "        ..\n",
              "2766     2\n",
              "6940     7\n",
              "772      2\n",
              "1298     8\n",
              "3887     2\n",
              "Name: target, Length: 3395, dtype: int64"
            ]
          },
          "metadata": {
            "tags": []
          },
          "execution_count": 149
        }
      ]
    },
    {
      "cell_type": "markdown",
      "metadata": {
        "id": "ESeWzKu_yIe_"
      },
      "source": [
        "## Preprocessing"
      ]
    },
    {
      "cell_type": "code",
      "metadata": {
        "colab": {
          "base_uri": "https://localhost:8080/"
        },
        "id": "upeq8dVdqaGr",
        "outputId": "d31c3934-7e0d-483e-9566-c1033e1cc1b0"
      },
      "source": [
        "import nltk\n",
        "nltk.download('stopwords')\n",
        "nltk.download('punkt')\n",
        "nltk.download('wordnet')\n",
        "from nltk.corpus import stopwords\n",
        "from nltk.tokenize import word_tokenize\n",
        "from nltk.stem import WordNetLemmatizer\n"
      ],
      "execution_count": 13,
      "outputs": [
        {
          "output_type": "stream",
          "text": [
            "[nltk_data] Downloading package stopwords to /root/nltk_data...\n",
            "[nltk_data]   Unzipping corpora/stopwords.zip.\n",
            "[nltk_data] Downloading package punkt to /root/nltk_data...\n",
            "[nltk_data]   Unzipping tokenizers/punkt.zip.\n",
            "[nltk_data] Downloading package wordnet to /root/nltk_data...\n",
            "[nltk_data]   Unzipping corpora/wordnet.zip.\n"
          ],
          "name": "stdout"
        }
      ]
    },
    {
      "cell_type": "code",
      "metadata": {
        "id": "qTY6MS9MxIRw"
      },
      "source": [
        "#stopwords_english = []\n",
        "stopwords_nltk = stopwords.words('english')\n",
        "#print('stopwords_nltk: \\n',stopwords_nltk)\n",
        "lemmatizer = WordNetLemmatizer()\n",
        "stopwords_english = ([lemmatizer.lemmatize(word) for word in stopwords_nltk])\n",
        "#print('stopwords_english: \\n',stopwords_english)\n"
      ],
      "execution_count": 14,
      "outputs": []
    },
    {
      "cell_type": "code",
      "metadata": {
        "id": "9LY-1412qzbU"
      },
      "source": [
        "def lemmed_token_generator(text_data):\n",
        "  #print(type(text_data))\n",
        "  #lemmed_tokens = []\n",
        "  nltk_tokens = nltk.word_tokenize(text_data)\n",
        "  lemmatizer = WordNetLemmatizer()\n",
        "  lemmed_tokens = ([lemmatizer.lemmatize(word) for word in nltk_tokens])\n",
        "  return lemmed_tokens"
      ],
      "execution_count": 15,
      "outputs": []
    },
    {
      "cell_type": "code",
      "metadata": {
        "id": "nnQJp76Yq83g"
      },
      "source": [
        "def stopword_removal(text_data):\n",
        "  #text_data = list(text_data)\n",
        "  #print('text_data: ',text_data)\n",
        "  #text_data = list(text_data)\n",
        "  stopword_filtered = []\n",
        "  stopword_filtered_str = ''\n",
        "  for t in text_data:\n",
        "    if t not in stopwords_english and len(t)>2:\n",
        "      stopword_filtered.append(t)\n",
        "\n",
        "  stopword_filtered_str = ' '.join([i for i in stopword_filtered])\n",
        "  #print('Stopword_filtered: ', stopword_filtered)  \n",
        "  return stopword_filtered_str\n"
      ],
      "execution_count": 16,
      "outputs": []
    },
    {
      "cell_type": "code",
      "metadata": {
        "id": "fjM13c4ezYPf"
      },
      "source": [
        "#newsgroups_train_df = newsgroups_train_df.head(2)"
      ],
      "execution_count": 17,
      "outputs": []
    },
    {
      "cell_type": "code",
      "metadata": {
        "colab": {
          "base_uri": "https://localhost:8080/",
          "height": 110
        },
        "id": "j6Zeo6hkrNCq",
        "outputId": "c559dcbf-ad1e-49f9-cc9d-0f796d892032"
      },
      "source": [
        "newsgroups_train_df.head(2)"
      ],
      "execution_count": 18,
      "outputs": [
        {
          "output_type": "execute_result",
          "data": {
            "text/html": [
              "<div>\n",
              "<style scoped>\n",
              "    .dataframe tbody tr th:only-of-type {\n",
              "        vertical-align: middle;\n",
              "    }\n",
              "\n",
              "    .dataframe tbody tr th {\n",
              "        vertical-align: top;\n",
              "    }\n",
              "\n",
              "    .dataframe thead th {\n",
              "        text-align: right;\n",
              "    }\n",
              "</style>\n",
              "<table border=\"1\" class=\"dataframe\">\n",
              "  <thead>\n",
              "    <tr style=\"text-align: right;\">\n",
              "      <th></th>\n",
              "      <th>data</th>\n",
              "      <th>target</th>\n",
              "    </tr>\n",
              "  </thead>\n",
              "  <tbody>\n",
              "    <tr>\n",
              "      <th>0</th>\n",
              "      <td>I was wondering if anyone out there could enli...</td>\n",
              "      <td>7</td>\n",
              "    </tr>\n",
              "    <tr>\n",
              "      <th>1</th>\n",
              "      <td>A fair number of brave souls who upgraded thei...</td>\n",
              "      <td>4</td>\n",
              "    </tr>\n",
              "  </tbody>\n",
              "</table>\n",
              "</div>"
            ],
            "text/plain": [
              "                                                data  target\n",
              "0  I was wondering if anyone out there could enli...       7\n",
              "1  A fair number of brave souls who upgraded thei...       4"
            ]
          },
          "metadata": {
            "tags": []
          },
          "execution_count": 18
        }
      ]
    },
    {
      "cell_type": "code",
      "metadata": {
        "colab": {
          "base_uri": "https://localhost:8080/"
        },
        "id": "GdFnCC_MzJYc",
        "outputId": "0619329b-f441-41ed-e87e-f8d16ba20437"
      },
      "source": [
        "newsgroups_split_unlabelled, newsgroups_split_labelled"
      ],
      "execution_count": 19,
      "outputs": [
        {
          "output_type": "execute_result",
          "data": {
            "text/plain": [
              "(                                                    data\n",
              " 8410   \\nThis was known as *Journey to the Far Side o...\n",
              " 10072  Somewhere, someone told me that Satan was the ...\n",
              " 1352   \\n\\nDIs it possible to track down \"zuma\" and d...\n",
              " 2926   As most of you know, we have recently changed ...\n",
              " 10024  Here is a story.  I bought a car about two wee...\n",
              " ...                                                  ...\n",
              " 11284  \\nAnd they're more like 1024x1024x8 charging &...\n",
              " 5191   \\nNo one should EVER rely on just a magazine t...\n",
              " 5390   \\n\\nSpecifically, which changes are you talkin...\n",
              " 860    \\n\\n\\nThis is an interesting question to ponde...\n",
              " 7270   \\nI think Murray has done a great job.  He's p...\n",
              " \n",
              " [7919 rows x 1 columns],\n",
              "                                                    data  target\n",
              " 7492  Could someone please post any info on these sy...       4\n",
              " 3546  \\n\\n     Don't bother if you have CPBackup or ...       2\n",
              " 5582  5.25\" Internal Low density disk drive.\\n\\nMono...       6\n",
              " 4793  Hi,\\n\\nIn Canada, any gun that enters a Nation...      16\n",
              " 3813  \\nDoesn't it also have the Statue of Liberty o...      10\n",
              " ...                                                 ...     ...\n",
              " 2766  : \\n: \\n:    I think the ink now used in the D...       2\n",
              " 6940  \\n\\n1) a fitting that allows you to generate h...       7\n",
              " 772   \\n\\nMight the problem not be with the video mo...       2\n",
              " 1298  From what I've seen in my 17 years as an MOA m...       8\n",
              " 3887  Hello everybody,\\n\\nI am searching for (busine...       2\n",
              " \n",
              " [3395 rows x 2 columns])"
            ]
          },
          "metadata": {
            "tags": []
          },
          "execution_count": 19
        }
      ]
    },
    {
      "cell_type": "code",
      "metadata": {
        "colab": {
          "base_uri": "https://localhost:8080/",
          "height": 514
        },
        "id": "xbCgNKhPyxm6",
        "outputId": "a3b9464f-e78a-4625-c6bc-343abc66b88b"
      },
      "source": [
        "newsgroups_split_labelled['data'] = newsgroups_split_labelled.apply((lambda x: newsgroups_split_labelled['data'].str.lower()), axis=0)\n",
        "newsgroups_split_labelled['data'] = newsgroups_split_labelled.data.str.replace('[^a-zA-Z]', ' ')\n",
        "newsgroups_split_labelled['data'] = newsgroups_split_labelled['data'].apply(lemmed_token_generator)\n",
        "newsgroups_split_labelled['data'] = newsgroups_split_labelled['data'].apply(stopword_removal)\n",
        "newsgroups_split_labelled.head(2)"
      ],
      "execution_count": 20,
      "outputs": [
        {
          "output_type": "stream",
          "text": [
            "/usr/local/lib/python3.7/dist-packages/ipykernel_launcher.py:1: SettingWithCopyWarning: \n",
            "A value is trying to be set on a copy of a slice from a DataFrame.\n",
            "Try using .loc[row_indexer,col_indexer] = value instead\n",
            "\n",
            "See the caveats in the documentation: https://pandas.pydata.org/pandas-docs/stable/user_guide/indexing.html#returning-a-view-versus-a-copy\n",
            "  \"\"\"Entry point for launching an IPython kernel.\n",
            "/usr/local/lib/python3.7/dist-packages/ipykernel_launcher.py:2: SettingWithCopyWarning: \n",
            "A value is trying to be set on a copy of a slice from a DataFrame.\n",
            "Try using .loc[row_indexer,col_indexer] = value instead\n",
            "\n",
            "See the caveats in the documentation: https://pandas.pydata.org/pandas-docs/stable/user_guide/indexing.html#returning-a-view-versus-a-copy\n",
            "  \n",
            "/usr/local/lib/python3.7/dist-packages/ipykernel_launcher.py:3: SettingWithCopyWarning: \n",
            "A value is trying to be set on a copy of a slice from a DataFrame.\n",
            "Try using .loc[row_indexer,col_indexer] = value instead\n",
            "\n",
            "See the caveats in the documentation: https://pandas.pydata.org/pandas-docs/stable/user_guide/indexing.html#returning-a-view-versus-a-copy\n",
            "  This is separate from the ipykernel package so we can avoid doing imports until\n",
            "/usr/local/lib/python3.7/dist-packages/ipykernel_launcher.py:4: SettingWithCopyWarning: \n",
            "A value is trying to be set on a copy of a slice from a DataFrame.\n",
            "Try using .loc[row_indexer,col_indexer] = value instead\n",
            "\n",
            "See the caveats in the documentation: https://pandas.pydata.org/pandas-docs/stable/user_guide/indexing.html#returning-a-view-versus-a-copy\n",
            "  after removing the cwd from sys.path.\n"
          ],
          "name": "stderr"
        },
        {
          "output_type": "execute_result",
          "data": {
            "text/html": [
              "<div>\n",
              "<style scoped>\n",
              "    .dataframe tbody tr th:only-of-type {\n",
              "        vertical-align: middle;\n",
              "    }\n",
              "\n",
              "    .dataframe tbody tr th {\n",
              "        vertical-align: top;\n",
              "    }\n",
              "\n",
              "    .dataframe thead th {\n",
              "        text-align: right;\n",
              "    }\n",
              "</style>\n",
              "<table border=\"1\" class=\"dataframe\">\n",
              "  <thead>\n",
              "    <tr style=\"text-align: right;\">\n",
              "      <th></th>\n",
              "      <th>data</th>\n",
              "      <th>target</th>\n",
              "    </tr>\n",
              "  </thead>\n",
              "  <tbody>\n",
              "    <tr>\n",
              "      <th>7492</th>\n",
              "      <td>could someone please post info system thanks b...</td>\n",
              "      <td>4</td>\n",
              "    </tr>\n",
              "    <tr>\n",
              "      <th>3546</th>\n",
              "      <td>bother cpbackup fastback offer option availabl...</td>\n",
              "      <td>2</td>\n",
              "    </tr>\n",
              "  </tbody>\n",
              "</table>\n",
              "</div>"
            ],
            "text/plain": [
              "                                                   data  target\n",
              "7492  could someone please post info system thanks b...       4\n",
              "3546  bother cpbackup fastback offer option availabl...       2"
            ]
          },
          "metadata": {
            "tags": []
          },
          "execution_count": 20
        }
      ]
    },
    {
      "cell_type": "code",
      "metadata": {
        "colab": {
          "base_uri": "https://localhost:8080/",
          "height": 110
        },
        "id": "YYXzqJyxrAIN",
        "outputId": "634c13e3-4fe0-4d92-8fbd-19a718289b5d"
      },
      "source": [
        "newsgroups_split_unlabelled['data'] = newsgroups_split_unlabelled.apply((lambda x: newsgroups_split_unlabelled['data'].str.lower()), axis=0)\n",
        "newsgroups_split_unlabelled['data'] = newsgroups_split_unlabelled.data.str.replace('[^a-zA-Z]', ' ')\n",
        "newsgroups_split_unlabelled['data'] = newsgroups_split_unlabelled['data'].apply(lemmed_token_generator)\n",
        "newsgroups_split_unlabelled['data'] = newsgroups_split_unlabelled['data'].apply(stopword_removal)\n",
        "newsgroups_split_unlabelled.head(2)"
      ],
      "execution_count": 21,
      "outputs": [
        {
          "output_type": "execute_result",
          "data": {
            "text/html": [
              "<div>\n",
              "<style scoped>\n",
              "    .dataframe tbody tr th:only-of-type {\n",
              "        vertical-align: middle;\n",
              "    }\n",
              "\n",
              "    .dataframe tbody tr th {\n",
              "        vertical-align: top;\n",
              "    }\n",
              "\n",
              "    .dataframe thead th {\n",
              "        text-align: right;\n",
              "    }\n",
              "</style>\n",
              "<table border=\"1\" class=\"dataframe\">\n",
              "  <thead>\n",
              "    <tr style=\"text-align: right;\">\n",
              "      <th></th>\n",
              "      <th>data</th>\n",
              "    </tr>\n",
              "  </thead>\n",
              "  <tbody>\n",
              "    <tr>\n",
              "      <th>8410</th>\n",
              "      <td>known journey far side sun united state doppel...</td>\n",
              "    </tr>\n",
              "    <tr>\n",
              "      <th>10072</th>\n",
              "      <td>somewhere someone told satan angel charge musi...</td>\n",
              "    </tr>\n",
              "  </tbody>\n",
              "</table>\n",
              "</div>"
            ],
            "text/plain": [
              "                                                    data\n",
              "8410   known journey far side sun united state doppel...\n",
              "10072  somewhere someone told satan angel charge musi..."
            ]
          },
          "metadata": {
            "tags": []
          },
          "execution_count": 21
        }
      ]
    },
    {
      "cell_type": "markdown",
      "metadata": {
        "id": "Rz_HcUAmyCBh"
      },
      "source": [
        "## Bigrams (Bag of Words)\n",
        "\n",
        "#### **newsgroups_train_df** has clean data"
      ]
    },
    {
      "cell_type": "code",
      "metadata": {
        "id": "WH2CgNcbsoL3"
      },
      "source": [
        "from sklearn.feature_extraction.text import TfidfVectorizer, CountVectorizer\n",
        "\n",
        "def bow_features(train_data):\n",
        "    # Bag-of-words representation\n",
        "    bigram_bow_vectorize = CountVectorizer(ngram_range=(1,2), min_df=1, max_features=10000)\n",
        "    bigram_bow_train = bigram_bow_vectorize.fit_transform(train_data.data) #bag-of-word features for training data\n",
        "    #bow_test = bow_vectorize.transform(test_data.data)\n",
        "    feature_names = bigram_bow_vectorize.get_feature_names() #converts feature index to the word it represents.\n",
        "    shape = bigram_bow_train.shape\n",
        "    #print('{} train data points.'.format(shape[0]))\n",
        "    #print('{} feature dimension.'.format(shape[1]))\n",
        "    #print('Most common word in training set is \"{}\"'.format(feature_names[bow_train.sum(axis=0).argmax()]))\n",
        "    return bigram_bow_train, feature_names"
      ],
      "execution_count": 22,
      "outputs": []
    },
    {
      "cell_type": "code",
      "metadata": {
        "id": "f2bSfdHK200y"
      },
      "source": [
        "bow_labelled, feature_labelled = bow_features(newsgroups_split_labelled)\n",
        "bow_unlabelled, feature_unlabelled = bow_features(newsgroups_split_unlabelled)\n"
      ],
      "execution_count": 23,
      "outputs": []
    },
    {
      "cell_type": "code",
      "metadata": {
        "id": "4IxodQecezQu"
      },
      "source": [
        "bigram_bow_labelled_df = pd.DataFrame.sparse.from_spmatrix(bow_labelled)\n",
        "bigram_bow_unlabelled_df = pd.DataFrame.sparse.from_spmatrix(bow_unlabelled)"
      ],
      "execution_count": 26,
      "outputs": []
    },
    {
      "cell_type": "code",
      "metadata": {
        "colab": {
          "base_uri": "https://localhost:8080/"
        },
        "id": "Rl_6HUls0iXJ",
        "outputId": "8698a506-6daa-4de3-bf49-4c03a2a1eb95"
      },
      "source": [
        "bigram_bow_unlabelled_df.shape"
      ],
      "execution_count": 29,
      "outputs": [
        {
          "output_type": "execute_result",
          "data": {
            "text/plain": [
              "(7919, 10000)"
            ]
          },
          "metadata": {
            "tags": []
          },
          "execution_count": 29
        }
      ]
    },
    {
      "cell_type": "code",
      "metadata": {
        "id": "_nMGD4-l1Rmc"
      },
      "source": [
        "from sklearn.decomposition import PCA \n",
        "\n",
        "def pca_features(large_df, no_components):\n",
        "  pca = PCA(no_components)  \n",
        "  pca.fit(large_df)\n",
        "  explained_variance = pca.explained_variance_ratio_\n",
        "  score_pca = explained_variance.sum()\n",
        "  return pd.DataFrame(pca.transform(large_df)), pca, score_pca\n"
      ],
      "execution_count": 30,
      "outputs": []
    },
    {
      "cell_type": "code",
      "metadata": {
        "id": "Gti_sJsk1-bP"
      },
      "source": [
        ""
      ],
      "execution_count": 30,
      "outputs": []
    },
    {
      "cell_type": "code",
      "metadata": {
        "id": "_-w8PPkmetqu",
        "colab": {
          "base_uri": "https://localhost:8080/"
        },
        "outputId": "199c2f4c-285d-4ce2-eaa6-a36efbcb6ce7"
      },
      "source": [
        "# from sklearn.decomposition import PCA \n",
        "\n",
        "# pca_bow_la = PCA(1500)  \n",
        "# pca.fit(bigram_bow_labelled_df)\n",
        "# projected_labelled_bow = pca.transform(bigram_bow_labelled_df)\n",
        "\n",
        "#principalDf = pd.DataFrame(data = projected_tfidf, columns = ['PC1', 'PC2','PC3','PC4','PC5','PC6','PC7','PC8','PC9','PC10','PC11','PC12','PC13','PC14','PC15','PC16','PC17','PC18','PC19','PC20'])\n",
        "\n",
        "projected_labelled_bow, pca_model_labelled, score_pca_bow_labelled = pca_features(bigram_bow_labelled_df, 20)\n",
        "\n",
        "print(bigram_bow_labelled_df.shape)\n",
        "print(projected_labelled_bow.shape)\n",
        "print('score_pca_bow_labelled: ', score_pca_bow_labelled)"
      ],
      "execution_count": 31,
      "outputs": [
        {
          "output_type": "stream",
          "text": [
            "(3395, 10000)\n",
            "(3395, 20)\n",
            "score_pca_bow_labelled:  0.790083759614321\n"
          ],
          "name": "stdout"
        }
      ]
    },
    {
      "cell_type": "code",
      "metadata": {
        "colab": {
          "base_uri": "https://localhost:8080/"
        },
        "id": "H16f6xDt5aCQ",
        "outputId": "0e2d8e8a-b656-48c3-ff9a-dfd5b849f7b5"
      },
      "source": [
        "projected_unlabelled_bow, pca_model_unlabelled, score_pca_bow_unlabelled = pca_features(bigram_bow_unlabelled_df, 20)\n",
        "\n",
        "print(bigram_bow_unlabelled_df.shape)\n",
        "print(projected_unlabelled_bow.shape)\n",
        "print('score_pca_bow_unlabelled: ', score_pca_bow_unlabelled)"
      ],
      "execution_count": 32,
      "outputs": [
        {
          "output_type": "stream",
          "text": [
            "(7919, 10000)\n",
            "(7919, 20)\n",
            "score_pca_bow_unlabelled:  0.7264213188459441\n"
          ],
          "name": "stdout"
        }
      ]
    },
    {
      "cell_type": "markdown",
      "metadata": {
        "id": "PQ8Wr-HJx3gG"
      },
      "source": [
        "## TF-IDF"
      ]
    },
    {
      "cell_type": "code",
      "metadata": {
        "id": "ogSVaFBQx5rh"
      },
      "source": [
        "def tf_idf_features(train_data):\n",
        "    # Bag-of-words representation\n",
        "    tf_idf_vectorize = TfidfVectorizer(ngram_range=(1, 2),max_features = 10000)\n",
        "    tf_idf_train = tf_idf_vectorize.fit_transform(train_data.data) #bag-of-word features for training data\n",
        "    feature_names = tf_idf_vectorize.get_feature_names() #converts feature index to the word it represents.\n",
        "    #tf_idf_test = tf_idf_vectorize.transform(test_data.data)\n",
        "   # print(tf_idf_train)\n",
        "    return tf_idf_train, feature_names"
      ],
      "execution_count": 33,
      "outputs": []
    },
    {
      "cell_type": "code",
      "metadata": {
        "id": "rx7hws_Tx5oo"
      },
      "source": [
        "tf_idf_labelled, f_names_tf_idf_labelled = tf_idf_features(newsgroups_split_labelled)\n",
        "tf_idf_unlabelled, f_names_tf_idf_unlabelled = tf_idf_features(newsgroups_split_unlabelled)"
      ],
      "execution_count": 34,
      "outputs": []
    },
    {
      "cell_type": "code",
      "metadata": {
        "id": "_rM-hJMQ6kHt"
      },
      "source": [
        "tf_idf_labelled_df = pd.DataFrame.sparse.from_spmatrix(tf_idf_labelled)\n",
        "tf_idf_unlabelled_df = pd.DataFrame.sparse.from_spmatrix(tf_idf_unlabelled)"
      ],
      "execution_count": 35,
      "outputs": []
    },
    {
      "cell_type": "code",
      "metadata": {
        "colab": {
          "base_uri": "https://localhost:8080/"
        },
        "id": "VJ3e3osw6O7z",
        "outputId": "742eaa3e-8fd0-4449-c3d5-f3a890778ce6"
      },
      "source": [
        "# 1500 pe 81%\n",
        "projected_labelled_tf_idf, pca_model_tf_idf_labelled, score_pca_tf_idf_labelled = pca_features(tf_idf_labelled_df, 1000)\n",
        "\n",
        "print(tf_idf_labelled_df.shape)\n",
        "print(projected_labelled_tf_idf.shape)\n",
        "print('score_pca_bow_labelled: ', score_pca_tf_idf_labelled)"
      ],
      "execution_count": 36,
      "outputs": [
        {
          "output_type": "stream",
          "text": [
            "(3395, 10000)\n",
            "(3395, 1000)\n",
            "score_pca_bow_labelled:  0.6740575951316776\n"
          ],
          "name": "stdout"
        }
      ]
    },
    {
      "cell_type": "code",
      "metadata": {
        "colab": {
          "base_uri": "https://localhost:8080/"
        },
        "id": "KOGRdbDG6LMO",
        "outputId": "93753400-33bc-47ec-9fdd-65ab6172c60a"
      },
      "source": [
        "# 1500 pe chala hai\n",
        "projected_unlabelled_tf_idf, pca_model_tf_idf_unlabelled, score_pca_tf_idf_unlabelled = pca_features(tf_idf_unlabelled_df, 1000)\n",
        "\n",
        "print(tf_idf_unlabelled_df.shape)\n",
        "print(projected_unlabelled_tf_idf.shape)\n",
        "print('score_pca_bow_labelled: ', score_pca_tf_idf_unlabelled)"
      ],
      "execution_count": 37,
      "outputs": [
        {
          "output_type": "stream",
          "text": [
            "(7919, 10000)\n",
            "(7919, 1000)\n",
            "score_pca_bow_labelled:  0.5720841170494368\n"
          ],
          "name": "stdout"
        }
      ]
    },
    {
      "cell_type": "code",
      "metadata": {
        "id": "mfXdz_Ex6K2T"
      },
      "source": [
        ""
      ],
      "execution_count": 37,
      "outputs": []
    },
    {
      "cell_type": "markdown",
      "metadata": {
        "id": "DPm9ScPRz2zz"
      },
      "source": [
        "## Word 2 vec -- [to do]"
      ]
    },
    {
      "cell_type": "code",
      "metadata": {
        "id": "RO_jK7Zox5kw"
      },
      "source": [
        ""
      ],
      "execution_count": null,
      "outputs": []
    },
    {
      "cell_type": "code",
      "metadata": {
        "id": "1Zn1damVx5jB"
      },
      "source": [
        "from gensim.models import Word2Vec, Phrases,KeyedVectors\n",
        "\n",
        "## No change done, No Model Training Code\n",
        "def w2v(feature_names):\n",
        "  #feature_names = list(feature_names)\n",
        "  n = 5\n",
        "  list_of_lists = [feature_names[i:i + n] for i in range(0, len(feature_names), n)]\n",
        "#  print(list_of_lists)\n",
        "\n",
        "  model = Word2Vec(list_of_lists, size=300, min_count=1, workers=4)\n",
        "  word_vectors = model.wv\n",
        "  # model['browser']\n",
        "  # model.similar_by_word('anarchist')\n",
        "  w2v_df = pd.DataFrame(word_vectors.vocab.keys())\n",
        "  return model, w2v_df, word_vectors"
      ],
      "execution_count": null,
      "outputs": []
    },
    {
      "cell_type": "code",
      "metadata": {
        "id": "oJasNe1diN0k"
      },
      "source": [
        "# w2v_df = pd.DataFrame(word_vectors.vocab.keys())"
      ],
      "execution_count": null,
      "outputs": []
    },
    {
      "cell_type": "code",
      "metadata": {
        "id": "3EsVQg4T9Ie3"
      },
      "source": [
        "model_w2v_labelled, vocab_labelled, word_vectors_labelled = w2v(feature_labelled)"
      ],
      "execution_count": null,
      "outputs": []
    },
    {
      "cell_type": "markdown",
      "metadata": {
        "id": "rMTnBh7Px_JV"
      },
      "source": [
        "## LDA"
      ]
    },
    {
      "cell_type": "code",
      "metadata": {
        "id": "eYLo6o2k292L"
      },
      "source": [
        "from sklearn.decomposition import NMF, LatentDirichletAllocation\n",
        "\n",
        "def lda_feature(bow_labelled_, bow_unlabelled_):\n",
        "  n_top_words = 20\n",
        "  lda = LatentDirichletAllocation(n_components=20, max_iter=50,\n",
        "                                learning_method='online',\n",
        "                                learning_offset=50.,\n",
        "                                random_state=0)\n",
        "\n",
        "  #tf_feature_names = tf_vectorizer.get_feature_names()\n",
        "  lda.fit(bow_labelled_)\n",
        "  lda.fit(bow_unlabelled_)\n",
        "  return lda\n",
        "#  plot_top_words(lda, tf_feature_names, n_top_words, 'Topics in LDA model')"
      ],
      "execution_count": null,
      "outputs": []
    },
    {
      "cell_type": "code",
      "metadata": {
        "id": "G4tbr7OX3OvE"
      },
      "source": [
        "lda_model = lda_feature(bow_labelled, bow_unlabelled)"
      ],
      "execution_count": null,
      "outputs": []
    },
    {
      "cell_type": "code",
      "metadata": {
        "id": "zy6MAa20AyTi"
      },
      "source": [
        "import pickle\n",
        "filename = 'lda_model_labelled.pkl'\n",
        "#pickle.dump(lda_model, open(filename, 'wb'))\n",
        "lda_model = pickle.load(open('lda_model_labelled.pkl','rb'))"
      ],
      "execution_count": 41,
      "outputs": []
    },
    {
      "cell_type": "code",
      "metadata": {
        "id": "AyPLXLP-3aT8"
      },
      "source": [
        "lda_features_df = pd.DataFrame(lda_model.components_)"
      ],
      "execution_count": 42,
      "outputs": []
    },
    {
      "cell_type": "code",
      "metadata": {
        "id": "2vx0X3szC86B"
      },
      "source": [
        "def lda_output(text, model):\n",
        "  text_lst = lemmed_token_generator(text)\n",
        "  #text_lst = list(text)\n",
        "  tokenized_list = []\n",
        "  for i in text_lst:\n",
        "    tokenized_list.append(i)\n",
        "  \n",
        "  vector = model[tokenized_list]\n",
        "  return vector"
      ],
      "execution_count": 43,
      "outputs": []
    },
    {
      "cell_type": "code",
      "metadata": {
        "id": "gm9_jW-BFWRm"
      },
      "source": [
        "lda_features_labelled_df = pd.DataFrame(lda_model.transform(bow_labelled))\n",
        "lda_features_unlabelled_df = pd.DataFrame(lda_model.transform(bow_unlabelled))"
      ],
      "execution_count": 44,
      "outputs": []
    },
    {
      "cell_type": "code",
      "metadata": {
        "id": "eQnr10R7Igom"
      },
      "source": [
        ""
      ],
      "execution_count": null,
      "outputs": []
    },
    {
      "cell_type": "code",
      "metadata": {
        "id": "yxVP7JSs3nZ0"
      },
      "source": [
        "from matplotlib import pyplot as plt"
      ],
      "execution_count": 46,
      "outputs": []
    },
    {
      "cell_type": "code",
      "metadata": {
        "colab": {
          "base_uri": "https://localhost:8080/",
          "height": 1000
        },
        "id": "ALy1Y_MC3h2G",
        "outputId": "ca3bdc56-822f-43ef-f523-3b4bca8ac7d2"
      },
      "source": [
        "n_top_words = 20\n",
        "fig, axes = plt.subplots(4, 5, figsize=(20, 20), sharex=True)\n",
        "axes = axes.flatten()\n",
        "\n",
        "for topic_idx, topic in enumerate(lda_model.components_):\n",
        "        top_features_ind = topic.argsort()[:-n_top_words - 1:-1]\n",
        "        top_features = [feature_labelled[i] for i in top_features_ind]\n",
        "        weights = topic[top_features_ind]\n",
        "\n",
        "        ax = axes[topic_idx]\n",
        "        ax.barh(top_features, weights, height=0.7)\n",
        "        ax.set_title(f'Topic {topic_idx +1}',\n",
        "                     fontdict={'fontsize': 30})\n",
        "        ax.invert_yaxis()\n",
        "        ax.tick_params(axis='both', which='major', labelsize=20)\n",
        "        for i in 'top right left'.split():\n",
        "            ax.spines[i].set_visible(False)\n",
        "        fig.suptitle('LDA word distribution', fontsize=40)\n",
        "\n",
        "plt.subplots_adjust(top=0.90, bottom=0.05, wspace=0.90, hspace=0.3)\n",
        "plt.show()\n"
      ],
      "execution_count": 198,
      "outputs": [
        {
          "output_type": "display_data",
          "data": {
            "image/png": "[encoded data removed]",
            "text/plain": [
              "<Figure size 1440x1440 with 20 Axes>"
            ]
          },
          "metadata": {
            "tags": [],
            "needs_background": "light"
          }
        }
      ]
    },
    {
      "cell_type": "code",
      "metadata": {
        "id": "25gHqF-lsphk"
      },
      "source": [
        ""
      ],
      "execution_count": null,
      "outputs": []
    },
    {
      "cell_type": "markdown",
      "metadata": {
        "id": "LUKf5kUcdBxN"
      },
      "source": [
        "## Naive Bayes"
      ]
    },
    {
      "cell_type": "code",
      "metadata": {
        "id": "3LtS8D-zTJ6c"
      },
      "source": [
        "X_train_labelled = pd.concat([lda_features_labelled_df,tf_idf_labelled_df,bigram_bow_labelled_df], axis=1)"
      ],
      "execution_count": 138,
      "outputs": []
    },
    {
      "cell_type": "code",
      "metadata": {
        "colab": {
          "base_uri": "https://localhost:8080/"
        },
        "id": "asDU-0U-TJ23",
        "outputId": "0b58e4f3-f340-4dbf-cfaa-daa39d77e279"
      },
      "source": [
        "X_train_labelled.shape"
      ],
      "execution_count": 54,
      "outputs": [
        {
          "output_type": "execute_result",
          "data": {
            "text/plain": [
              "(3395, 20020)"
            ]
          },
          "metadata": {
            "tags": []
          },
          "execution_count": 54
        }
      ]
    },
    {
      "cell_type": "code",
      "metadata": {
        "id": "9hIyeJLgTJwN"
      },
      "source": [
        "X_train_labelled.isna().sum().value_counts()"
      ],
      "execution_count": null,
      "outputs": []
    },
    {
      "cell_type": "code",
      "metadata": {
        "id": "pSBQ0BGQTJrW"
      },
      "source": [
        "X_train_labelled.isna().values.any()"
      ],
      "execution_count": null,
      "outputs": []
    },
    {
      "cell_type": "code",
      "metadata": {
        "id": "jsb2wkqVTJmL"
      },
      "source": [
        "X_train_unlabelled = pd.concat([lda_features_unlabelled_df,tf_idf_unlabelled_df,bigram_bow_unlabelled_df], axis=1)"
      ],
      "execution_count": 139,
      "outputs": []
    },
    {
      "cell_type": "code",
      "metadata": {
        "id": "uvd_Gs1wTJhY"
      },
      "source": [
        "X_train_unlabelled.isnull().values.any()"
      ],
      "execution_count": null,
      "outputs": []
    },
    {
      "cell_type": "code",
      "metadata": {
        "colab": {
          "base_uri": "https://localhost:8080/"
        },
        "id": "L6Aw4bggTJbY",
        "outputId": "6d40e1d0-33e9-4e00-e66f-33dd6df7ca55"
      },
      "source": [
        "X_train_unlabelled.shape"
      ],
      "execution_count": 58,
      "outputs": [
        {
          "output_type": "execute_result",
          "data": {
            "text/plain": [
              "(7919, 20020)"
            ]
          },
          "metadata": {
            "tags": []
          },
          "execution_count": 58
        }
      ]
    },
    {
      "cell_type": "code",
      "metadata": {
        "id": "aYjpOZWWeqxW"
      },
      "source": [
        "X_train_labelled.to_pickle('X_train_labelled.pkl')\n",
        "X_train_unlabelled.to_pickle('X_train_unlabelled.pkl')\n",
        "y_train.to_pickle('y_train.pkl')"
      ],
      "execution_count": 140,
      "outputs": []
    },
    {
      "cell_type": "markdown",
      "metadata": {
        "id": "dMfhaSelXOm7"
      },
      "source": [
        "## 1. Train Naive Bayes with labelled data with labels\n"
      ]
    },
    {
      "cell_type": "code",
      "metadata": {
        "colab": {
          "base_uri": "https://localhost:8080/"
        },
        "id": "-_wj4LUabuYQ",
        "outputId": "f00e4960-f84c-4657-a0f5-912c34348379"
      },
      "source": [
        "type(X_train_labelled)"
      ],
      "execution_count": 141,
      "outputs": [
        {
          "output_type": "execute_result",
          "data": {
            "text/plain": [
              "pandas.core.frame.DataFrame"
            ]
          },
          "metadata": {
            "tags": []
          },
          "execution_count": 141
        }
      ]
    },
    {
      "cell_type": "code",
      "metadata": {
        "id": "v1QNwBLNb6jg"
      },
      "source": [
        "#X_train_labelled.todense()"
      ],
      "execution_count": null,
      "outputs": []
    },
    {
      "cell_type": "code",
      "metadata": {
        "id": "x275wyrJfUQx"
      },
      "source": [
        "y_train.reset_index(drop=True, inplace=True)"
      ],
      "execution_count": null,
      "outputs": []
    },
    {
      "cell_type": "code",
      "metadata": {
        "id": "DPxnmSBXfbfx"
      },
      "source": [
        "y_train"
      ],
      "execution_count": null,
      "outputs": []
    },
    {
      "cell_type": "code",
      "metadata": {
        "id": "hSwE4iYJfGvx"
      },
      "source": [
        "X_train_labelled.reset_index(drop=True)"
      ],
      "execution_count": null,
      "outputs": []
    },
    {
      "cell_type": "code",
      "metadata": {
        "id": "jiCi2cGjgpRh"
      },
      "source": [
        "word_proba_array"
      ],
      "execution_count": null,
      "outputs": []
    },
    {
      "cell_type": "code",
      "metadata": {
        "id": "hndApYUdgq30"
      },
      "source": [
        "labels_proba_array"
      ],
      "execution_count": null,
      "outputs": []
    },
    {
      "cell_type": "code",
      "metadata": {
        "id": "12LDXdWGh6tw"
      },
      "source": [
        "\n",
        "proba_array_unormalized = np.zeros((X_train_labelled.shape[0], n_labels))\n",
        "\n",
        "for c in range(n_labels):\n",
        "    \n",
        "    temp = np.power(np.tile(word_proba_array[:,c], (X_train_labelled.shape[0] ,1)), X_train_labelled)\n",
        "    proba_array_unormalized[:,c] = labels_proba_array[c] * np.prod(temp, axis=1)\n",
        "    \n",
        "#return proba_array_unormalized"
      ],
      "execution_count": null,
      "outputs": []
    },
    {
      "cell_type": "markdown",
      "metadata": {
        "id": "Pdc2RZmwoe75"
      },
      "source": [
        "#### X_train = Combination of all the features in a single dataframe, bigram_bow_df, tf_idf_df, lda_features_df and wordtovecDF\n",
        " "
      ]
    },
    {
      "cell_type": "markdown",
      "metadata": {
        "id": "ncdiJIJpBbMS"
      },
      "source": [
        "## New Story Begins"
      ]
    },
    {
      "cell_type": "code",
      "metadata": {
        "id": "URboLiYNBfg0"
      },
      "source": [
        "from sklearn.naive_bayes import MultinomialNB"
      ],
      "execution_count": 144,
      "outputs": []
    },
    {
      "cell_type": "code",
      "metadata": {
        "id": "z4O5fhI8CCDW"
      },
      "source": [
        "clf = MultinomialNB()\n"
      ],
      "execution_count": 145,
      "outputs": []
    },
    {
      "cell_type": "code",
      "metadata": {
        "colab": {
          "base_uri": "https://localhost:8080/"
        },
        "id": "HQMePK13CPTi",
        "outputId": "9ac221a2-8a63-4ab0-d71b-8f9c92789efe"
      },
      "source": [
        "clf.fit(X_train_labelled, y_train)"
      ],
      "execution_count": 150,
      "outputs": [
        {
          "output_type": "execute_result",
          "data": {
            "text/plain": [
              "MultinomialNB(alpha=1.0, class_prior=None, fit_prior=True)"
            ]
          },
          "metadata": {
            "tags": []
          },
          "execution_count": 150
        }
      ]
    },
    {
      "cell_type": "code",
      "metadata": {
        "colab": {
          "base_uri": "https://localhost:8080/"
        },
        "id": "N6MYqpsGiQHf",
        "outputId": "eec47fcc-ecd4-4524-e372-ceb1daf6089e"
      },
      "source": [
        "X_train_labelled.shape"
      ],
      "execution_count": 151,
      "outputs": [
        {
          "output_type": "execute_result",
          "data": {
            "text/plain": [
              "(3395, 20020)"
            ]
          },
          "metadata": {
            "tags": []
          },
          "execution_count": 151
        }
      ]
    },
    {
      "cell_type": "code",
      "metadata": {
        "colab": {
          "base_uri": "https://localhost:8080/"
        },
        "id": "O_hyaqV6iTBP",
        "outputId": "0059dc6e-e95a-4eea-fc21-232a49f80a1f"
      },
      "source": [
        "y_train.shape"
      ],
      "execution_count": 148,
      "outputs": [
        {
          "output_type": "execute_result",
          "data": {
            "text/plain": [
              "(1000,)"
            ]
          },
          "metadata": {
            "tags": []
          },
          "execution_count": 148
        }
      ]
    },
    {
      "cell_type": "code",
      "metadata": {
        "id": "SFZ9hAHUCUpW"
      },
      "source": [
        "y_pred_labels = clf.predict(X_train_unlabelled)"
      ],
      "execution_count": 152,
      "outputs": []
    },
    {
      "cell_type": "code",
      "metadata": {
        "colab": {
          "base_uri": "https://localhost:8080/"
        },
        "id": "n5TB3tD-Cm_F",
        "outputId": "a4ce5a38-1342-4cfb-b7b9-10c3d87d1f33"
      },
      "source": [
        "y_pred_labels.shape"
      ],
      "execution_count": 153,
      "outputs": [
        {
          "output_type": "execute_result",
          "data": {
            "text/plain": [
              "(7919,)"
            ]
          },
          "metadata": {
            "tags": []
          },
          "execution_count": 153
        }
      ]
    },
    {
      "cell_type": "code",
      "metadata": {
        "id": "1AceiLpSCo5f"
      },
      "source": [
        "X_train_unlabelled['label'] = y_pred_labels"
      ],
      "execution_count": 154,
      "outputs": []
    },
    {
      "cell_type": "code",
      "metadata": {
        "colab": {
          "base_uri": "https://localhost:8080/",
          "height": 252
        },
        "id": "-IQy9lHsDbKz",
        "outputId": "3396e142-0cc8-4c1c-d652-028aa4f378b0"
      },
      "source": [
        "X_train_unlabelled.head()"
      ],
      "execution_count": 72,
      "outputs": [
        {
          "output_type": "execute_result",
          "data": {
            "text/html": [
              "<div>\n",
              "<style scoped>\n",
              "    .dataframe tbody tr th:only-of-type {\n",
              "        vertical-align: middle;\n",
              "    }\n",
              "\n",
              "    .dataframe tbody tr th {\n",
              "        vertical-align: top;\n",
              "    }\n",
              "\n",
              "    .dataframe thead th {\n",
              "        text-align: right;\n",
              "    }\n",
              "</style>\n",
              "<table border=\"1\" class=\"dataframe\">\n",
              "  <thead>\n",
              "    <tr style=\"text-align: right;\">\n",
              "      <th></th>\n",
              "      <th>0</th>\n",
              "      <th>1</th>\n",
              "      <th>2</th>\n",
              "      <th>3</th>\n",
              "      <th>4</th>\n",
              "      <th>5</th>\n",
              "      <th>6</th>\n",
              "      <th>7</th>\n",
              "      <th>8</th>\n",
              "      <th>9</th>\n",
              "      <th>10</th>\n",
              "      <th>11</th>\n",
              "      <th>12</th>\n",
              "      <th>13</th>\n",
              "      <th>14</th>\n",
              "      <th>15</th>\n",
              "      <th>16</th>\n",
              "      <th>17</th>\n",
              "      <th>18</th>\n",
              "      <th>19</th>\n",
              "      <th>0</th>\n",
              "      <th>1</th>\n",
              "      <th>2</th>\n",
              "      <th>3</th>\n",
              "      <th>4</th>\n",
              "      <th>5</th>\n",
              "      <th>6</th>\n",
              "      <th>7</th>\n",
              "      <th>8</th>\n",
              "      <th>9</th>\n",
              "      <th>10</th>\n",
              "      <th>11</th>\n",
              "      <th>12</th>\n",
              "      <th>13</th>\n",
              "      <th>14</th>\n",
              "      <th>15</th>\n",
              "      <th>16</th>\n",
              "      <th>17</th>\n",
              "      <th>18</th>\n",
              "      <th>19</th>\n",
              "      <th>...</th>\n",
              "      <th>9961</th>\n",
              "      <th>9962</th>\n",
              "      <th>9963</th>\n",
              "      <th>9964</th>\n",
              "      <th>9965</th>\n",
              "      <th>9966</th>\n",
              "      <th>9967</th>\n",
              "      <th>9968</th>\n",
              "      <th>9969</th>\n",
              "      <th>9970</th>\n",
              "      <th>9971</th>\n",
              "      <th>9972</th>\n",
              "      <th>9973</th>\n",
              "      <th>9974</th>\n",
              "      <th>9975</th>\n",
              "      <th>9976</th>\n",
              "      <th>9977</th>\n",
              "      <th>9978</th>\n",
              "      <th>9979</th>\n",
              "      <th>9980</th>\n",
              "      <th>9981</th>\n",
              "      <th>9982</th>\n",
              "      <th>9983</th>\n",
              "      <th>9984</th>\n",
              "      <th>9985</th>\n",
              "      <th>9986</th>\n",
              "      <th>9987</th>\n",
              "      <th>9988</th>\n",
              "      <th>9989</th>\n",
              "      <th>9990</th>\n",
              "      <th>9991</th>\n",
              "      <th>9992</th>\n",
              "      <th>9993</th>\n",
              "      <th>9994</th>\n",
              "      <th>9995</th>\n",
              "      <th>9996</th>\n",
              "      <th>9997</th>\n",
              "      <th>9998</th>\n",
              "      <th>9999</th>\n",
              "      <th>label</th>\n",
              "    </tr>\n",
              "  </thead>\n",
              "  <tbody>\n",
              "    <tr>\n",
              "      <th>0</th>\n",
              "      <td>0.001190</td>\n",
              "      <td>0.001190</td>\n",
              "      <td>0.001190</td>\n",
              "      <td>0.001190</td>\n",
              "      <td>0.001190</td>\n",
              "      <td>0.001190</td>\n",
              "      <td>0.125032</td>\n",
              "      <td>0.001190</td>\n",
              "      <td>0.001190</td>\n",
              "      <td>0.001190</td>\n",
              "      <td>0.001190</td>\n",
              "      <td>0.001190</td>\n",
              "      <td>0.001190</td>\n",
              "      <td>0.001190</td>\n",
              "      <td>0.001190</td>\n",
              "      <td>0.001190</td>\n",
              "      <td>0.625283</td>\n",
              "      <td>0.062832</td>\n",
              "      <td>0.001190</td>\n",
              "      <td>0.167806</td>\n",
              "      <td>0.0</td>\n",
              "      <td>0.0</td>\n",
              "      <td>0.0</td>\n",
              "      <td>0.0</td>\n",
              "      <td>0.0</td>\n",
              "      <td>0.0</td>\n",
              "      <td>0.0</td>\n",
              "      <td>0.0</td>\n",
              "      <td>0.0</td>\n",
              "      <td>0.0</td>\n",
              "      <td>0.0</td>\n",
              "      <td>0.0</td>\n",
              "      <td>0.0</td>\n",
              "      <td>0.0</td>\n",
              "      <td>0.0</td>\n",
              "      <td>0.0</td>\n",
              "      <td>0.0</td>\n",
              "      <td>0.0</td>\n",
              "      <td>0.0</td>\n",
              "      <td>0.0</td>\n",
              "      <td>...</td>\n",
              "      <td>0</td>\n",
              "      <td>0</td>\n",
              "      <td>0</td>\n",
              "      <td>0</td>\n",
              "      <td>0</td>\n",
              "      <td>0</td>\n",
              "      <td>0</td>\n",
              "      <td>0</td>\n",
              "      <td>0</td>\n",
              "      <td>0</td>\n",
              "      <td>0</td>\n",
              "      <td>0</td>\n",
              "      <td>0</td>\n",
              "      <td>0</td>\n",
              "      <td>0</td>\n",
              "      <td>0</td>\n",
              "      <td>0</td>\n",
              "      <td>0</td>\n",
              "      <td>0</td>\n",
              "      <td>0</td>\n",
              "      <td>0</td>\n",
              "      <td>0</td>\n",
              "      <td>0</td>\n",
              "      <td>0</td>\n",
              "      <td>0</td>\n",
              "      <td>0</td>\n",
              "      <td>0</td>\n",
              "      <td>0</td>\n",
              "      <td>0</td>\n",
              "      <td>0</td>\n",
              "      <td>0</td>\n",
              "      <td>0</td>\n",
              "      <td>0</td>\n",
              "      <td>0</td>\n",
              "      <td>0</td>\n",
              "      <td>0</td>\n",
              "      <td>0</td>\n",
              "      <td>0</td>\n",
              "      <td>0</td>\n",
              "      <td>4</td>\n",
              "    </tr>\n",
              "    <tr>\n",
              "      <th>1</th>\n",
              "      <td>0.016450</td>\n",
              "      <td>0.412113</td>\n",
              "      <td>0.000694</td>\n",
              "      <td>0.000694</td>\n",
              "      <td>0.000694</td>\n",
              "      <td>0.000694</td>\n",
              "      <td>0.000694</td>\n",
              "      <td>0.000694</td>\n",
              "      <td>0.000694</td>\n",
              "      <td>0.000694</td>\n",
              "      <td>0.143497</td>\n",
              "      <td>0.000694</td>\n",
              "      <td>0.000694</td>\n",
              "      <td>0.000694</td>\n",
              "      <td>0.000694</td>\n",
              "      <td>0.000694</td>\n",
              "      <td>0.320332</td>\n",
              "      <td>0.097191</td>\n",
              "      <td>0.000694</td>\n",
              "      <td>0.000694</td>\n",
              "      <td>0.0</td>\n",
              "      <td>0.0</td>\n",
              "      <td>0.0</td>\n",
              "      <td>0.0</td>\n",
              "      <td>0.0</td>\n",
              "      <td>0.0</td>\n",
              "      <td>0.0</td>\n",
              "      <td>0.0</td>\n",
              "      <td>0.0</td>\n",
              "      <td>0.0</td>\n",
              "      <td>0.0</td>\n",
              "      <td>0.0</td>\n",
              "      <td>0.0</td>\n",
              "      <td>0.0</td>\n",
              "      <td>0.0</td>\n",
              "      <td>0.0</td>\n",
              "      <td>0.0</td>\n",
              "      <td>0.0</td>\n",
              "      <td>0.0</td>\n",
              "      <td>0.0</td>\n",
              "      <td>...</td>\n",
              "      <td>0</td>\n",
              "      <td>0</td>\n",
              "      <td>0</td>\n",
              "      <td>0</td>\n",
              "      <td>0</td>\n",
              "      <td>0</td>\n",
              "      <td>0</td>\n",
              "      <td>0</td>\n",
              "      <td>0</td>\n",
              "      <td>0</td>\n",
              "      <td>0</td>\n",
              "      <td>0</td>\n",
              "      <td>0</td>\n",
              "      <td>0</td>\n",
              "      <td>0</td>\n",
              "      <td>0</td>\n",
              "      <td>0</td>\n",
              "      <td>0</td>\n",
              "      <td>0</td>\n",
              "      <td>0</td>\n",
              "      <td>0</td>\n",
              "      <td>0</td>\n",
              "      <td>0</td>\n",
              "      <td>0</td>\n",
              "      <td>0</td>\n",
              "      <td>0</td>\n",
              "      <td>0</td>\n",
              "      <td>0</td>\n",
              "      <td>0</td>\n",
              "      <td>0</td>\n",
              "      <td>0</td>\n",
              "      <td>0</td>\n",
              "      <td>0</td>\n",
              "      <td>0</td>\n",
              "      <td>0</td>\n",
              "      <td>0</td>\n",
              "      <td>0</td>\n",
              "      <td>0</td>\n",
              "      <td>0</td>\n",
              "      <td>7</td>\n",
              "    </tr>\n",
              "    <tr>\n",
              "      <th>2</th>\n",
              "      <td>0.004545</td>\n",
              "      <td>0.004545</td>\n",
              "      <td>0.004545</td>\n",
              "      <td>0.004545</td>\n",
              "      <td>0.004545</td>\n",
              "      <td>0.004545</td>\n",
              "      <td>0.004545</td>\n",
              "      <td>0.431630</td>\n",
              "      <td>0.486552</td>\n",
              "      <td>0.004545</td>\n",
              "      <td>0.004545</td>\n",
              "      <td>0.004545</td>\n",
              "      <td>0.004545</td>\n",
              "      <td>0.004545</td>\n",
              "      <td>0.004545</td>\n",
              "      <td>0.004545</td>\n",
              "      <td>0.004545</td>\n",
              "      <td>0.004545</td>\n",
              "      <td>0.004545</td>\n",
              "      <td>0.004545</td>\n",
              "      <td>0.0</td>\n",
              "      <td>0.0</td>\n",
              "      <td>0.0</td>\n",
              "      <td>0.0</td>\n",
              "      <td>0.0</td>\n",
              "      <td>0.0</td>\n",
              "      <td>0.0</td>\n",
              "      <td>0.0</td>\n",
              "      <td>0.0</td>\n",
              "      <td>0.0</td>\n",
              "      <td>0.0</td>\n",
              "      <td>0.0</td>\n",
              "      <td>0.0</td>\n",
              "      <td>0.0</td>\n",
              "      <td>0.0</td>\n",
              "      <td>0.0</td>\n",
              "      <td>0.0</td>\n",
              "      <td>0.0</td>\n",
              "      <td>0.0</td>\n",
              "      <td>0.0</td>\n",
              "      <td>...</td>\n",
              "      <td>0</td>\n",
              "      <td>0</td>\n",
              "      <td>0</td>\n",
              "      <td>0</td>\n",
              "      <td>0</td>\n",
              "      <td>0</td>\n",
              "      <td>0</td>\n",
              "      <td>0</td>\n",
              "      <td>0</td>\n",
              "      <td>0</td>\n",
              "      <td>0</td>\n",
              "      <td>0</td>\n",
              "      <td>0</td>\n",
              "      <td>0</td>\n",
              "      <td>0</td>\n",
              "      <td>0</td>\n",
              "      <td>0</td>\n",
              "      <td>0</td>\n",
              "      <td>0</td>\n",
              "      <td>0</td>\n",
              "      <td>0</td>\n",
              "      <td>0</td>\n",
              "      <td>0</td>\n",
              "      <td>0</td>\n",
              "      <td>0</td>\n",
              "      <td>0</td>\n",
              "      <td>0</td>\n",
              "      <td>0</td>\n",
              "      <td>0</td>\n",
              "      <td>0</td>\n",
              "      <td>0</td>\n",
              "      <td>0</td>\n",
              "      <td>0</td>\n",
              "      <td>0</td>\n",
              "      <td>0</td>\n",
              "      <td>0</td>\n",
              "      <td>0</td>\n",
              "      <td>0</td>\n",
              "      <td>0</td>\n",
              "      <td>3</td>\n",
              "    </tr>\n",
              "    <tr>\n",
              "      <th>3</th>\n",
              "      <td>0.000287</td>\n",
              "      <td>0.000287</td>\n",
              "      <td>0.000287</td>\n",
              "      <td>0.000287</td>\n",
              "      <td>0.005881</td>\n",
              "      <td>0.000287</td>\n",
              "      <td>0.000287</td>\n",
              "      <td>0.000287</td>\n",
              "      <td>0.000287</td>\n",
              "      <td>0.007109</td>\n",
              "      <td>0.000287</td>\n",
              "      <td>0.000287</td>\n",
              "      <td>0.000287</td>\n",
              "      <td>0.982124</td>\n",
              "      <td>0.000287</td>\n",
              "      <td>0.000287</td>\n",
              "      <td>0.000287</td>\n",
              "      <td>0.000287</td>\n",
              "      <td>0.000287</td>\n",
              "      <td>0.000287</td>\n",
              "      <td>0.0</td>\n",
              "      <td>0.0</td>\n",
              "      <td>0.0</td>\n",
              "      <td>0.0</td>\n",
              "      <td>0.0</td>\n",
              "      <td>0.0</td>\n",
              "      <td>0.0</td>\n",
              "      <td>0.0</td>\n",
              "      <td>0.0</td>\n",
              "      <td>0.0</td>\n",
              "      <td>0.0</td>\n",
              "      <td>0.0</td>\n",
              "      <td>0.0</td>\n",
              "      <td>0.0</td>\n",
              "      <td>0.0</td>\n",
              "      <td>0.0</td>\n",
              "      <td>0.0</td>\n",
              "      <td>0.0</td>\n",
              "      <td>0.0</td>\n",
              "      <td>0.0</td>\n",
              "      <td>...</td>\n",
              "      <td>0</td>\n",
              "      <td>0</td>\n",
              "      <td>0</td>\n",
              "      <td>0</td>\n",
              "      <td>0</td>\n",
              "      <td>0</td>\n",
              "      <td>0</td>\n",
              "      <td>0</td>\n",
              "      <td>0</td>\n",
              "      <td>0</td>\n",
              "      <td>0</td>\n",
              "      <td>0</td>\n",
              "      <td>0</td>\n",
              "      <td>0</td>\n",
              "      <td>0</td>\n",
              "      <td>0</td>\n",
              "      <td>0</td>\n",
              "      <td>0</td>\n",
              "      <td>0</td>\n",
              "      <td>0</td>\n",
              "      <td>0</td>\n",
              "      <td>0</td>\n",
              "      <td>0</td>\n",
              "      <td>0</td>\n",
              "      <td>0</td>\n",
              "      <td>0</td>\n",
              "      <td>0</td>\n",
              "      <td>0</td>\n",
              "      <td>0</td>\n",
              "      <td>0</td>\n",
              "      <td>0</td>\n",
              "      <td>0</td>\n",
              "      <td>0</td>\n",
              "      <td>0</td>\n",
              "      <td>0</td>\n",
              "      <td>0</td>\n",
              "      <td>0</td>\n",
              "      <td>0</td>\n",
              "      <td>0</td>\n",
              "      <td>7</td>\n",
              "    </tr>\n",
              "    <tr>\n",
              "      <th>4</th>\n",
              "      <td>0.000820</td>\n",
              "      <td>0.000820</td>\n",
              "      <td>0.000820</td>\n",
              "      <td>0.000820</td>\n",
              "      <td>0.000820</td>\n",
              "      <td>0.000820</td>\n",
              "      <td>0.000820</td>\n",
              "      <td>0.091218</td>\n",
              "      <td>0.000820</td>\n",
              "      <td>0.000820</td>\n",
              "      <td>0.000820</td>\n",
              "      <td>0.000820</td>\n",
              "      <td>0.000820</td>\n",
              "      <td>0.104643</td>\n",
              "      <td>0.000820</td>\n",
              "      <td>0.000820</td>\n",
              "      <td>0.790205</td>\n",
              "      <td>0.000820</td>\n",
              "      <td>0.000820</td>\n",
              "      <td>0.000820</td>\n",
              "      <td>0.0</td>\n",
              "      <td>0.0</td>\n",
              "      <td>0.0</td>\n",
              "      <td>0.0</td>\n",
              "      <td>0.0</td>\n",
              "      <td>0.0</td>\n",
              "      <td>0.0</td>\n",
              "      <td>0.0</td>\n",
              "      <td>0.0</td>\n",
              "      <td>0.0</td>\n",
              "      <td>0.0</td>\n",
              "      <td>0.0</td>\n",
              "      <td>0.0</td>\n",
              "      <td>0.0</td>\n",
              "      <td>0.0</td>\n",
              "      <td>0.0</td>\n",
              "      <td>0.0</td>\n",
              "      <td>0.0</td>\n",
              "      <td>0.0</td>\n",
              "      <td>0.0</td>\n",
              "      <td>...</td>\n",
              "      <td>0</td>\n",
              "      <td>0</td>\n",
              "      <td>0</td>\n",
              "      <td>0</td>\n",
              "      <td>0</td>\n",
              "      <td>0</td>\n",
              "      <td>0</td>\n",
              "      <td>0</td>\n",
              "      <td>0</td>\n",
              "      <td>0</td>\n",
              "      <td>0</td>\n",
              "      <td>0</td>\n",
              "      <td>0</td>\n",
              "      <td>0</td>\n",
              "      <td>0</td>\n",
              "      <td>0</td>\n",
              "      <td>0</td>\n",
              "      <td>0</td>\n",
              "      <td>0</td>\n",
              "      <td>1</td>\n",
              "      <td>0</td>\n",
              "      <td>0</td>\n",
              "      <td>0</td>\n",
              "      <td>0</td>\n",
              "      <td>0</td>\n",
              "      <td>0</td>\n",
              "      <td>0</td>\n",
              "      <td>0</td>\n",
              "      <td>0</td>\n",
              "      <td>0</td>\n",
              "      <td>0</td>\n",
              "      <td>0</td>\n",
              "      <td>0</td>\n",
              "      <td>0</td>\n",
              "      <td>0</td>\n",
              "      <td>0</td>\n",
              "      <td>0</td>\n",
              "      <td>0</td>\n",
              "      <td>0</td>\n",
              "      <td>13</td>\n",
              "    </tr>\n",
              "  </tbody>\n",
              "</table>\n",
              "<p>5 rows × 20021 columns</p>\n",
              "</div>"
            ],
            "text/plain": [
              "          0         1         2         3  ...  9997  9998  9999  label\n",
              "0  0.001190  0.001190  0.001190  0.001190  ...     0     0     0      4\n",
              "1  0.016450  0.412113  0.000694  0.000694  ...     0     0     0      7\n",
              "2  0.004545  0.004545  0.004545  0.004545  ...     0     0     0      3\n",
              "3  0.000287  0.000287  0.000287  0.000287  ...     0     0     0      7\n",
              "4  0.000820  0.000820  0.000820  0.000820  ...     0     0     0     13\n",
              "\n",
              "[5 rows x 20021 columns]"
            ]
          },
          "metadata": {
            "tags": []
          },
          "execution_count": 72
        }
      ]
    },
    {
      "cell_type": "code",
      "metadata": {
        "id": "o_52k9S8DmSL"
      },
      "source": [
        "X_train_labelled['label'] = y_train"
      ],
      "execution_count": 155,
      "outputs": []
    },
    {
      "cell_type": "code",
      "metadata": {
        "id": "-5MsEx81Dxok"
      },
      "source": [
        "X_train_labelled.head(2)"
      ],
      "execution_count": null,
      "outputs": []
    },
    {
      "cell_type": "code",
      "metadata": {
        "id": "rRxN79hSEf6d"
      },
      "source": [
        "train_data = pd.concat([X_train_labelled, X_train_unlabelled], axis = 0)"
      ],
      "execution_count": 156,
      "outputs": []
    },
    {
      "cell_type": "code",
      "metadata": {
        "colab": {
          "base_uri": "https://localhost:8080/",
          "height": 437
        },
        "id": "AeIoJWxoFH-3",
        "outputId": "d6caca4c-876c-4629-e2d8-537b5d08b9f1"
      },
      "source": [
        "train_data"
      ],
      "execution_count": 157,
      "outputs": [
        {
          "output_type": "execute_result",
          "data": {
            "text/html": [
              "<div>\n",
              "<style scoped>\n",
              "    .dataframe tbody tr th:only-of-type {\n",
              "        vertical-align: middle;\n",
              "    }\n",
              "\n",
              "    .dataframe tbody tr th {\n",
              "        vertical-align: top;\n",
              "    }\n",
              "\n",
              "    .dataframe thead th {\n",
              "        text-align: right;\n",
              "    }\n",
              "</style>\n",
              "<table border=\"1\" class=\"dataframe\">\n",
              "  <thead>\n",
              "    <tr style=\"text-align: right;\">\n",
              "      <th></th>\n",
              "      <th>0</th>\n",
              "      <th>1</th>\n",
              "      <th>2</th>\n",
              "      <th>3</th>\n",
              "      <th>4</th>\n",
              "      <th>5</th>\n",
              "      <th>6</th>\n",
              "      <th>7</th>\n",
              "      <th>8</th>\n",
              "      <th>9</th>\n",
              "      <th>10</th>\n",
              "      <th>11</th>\n",
              "      <th>12</th>\n",
              "      <th>13</th>\n",
              "      <th>14</th>\n",
              "      <th>15</th>\n",
              "      <th>16</th>\n",
              "      <th>17</th>\n",
              "      <th>18</th>\n",
              "      <th>19</th>\n",
              "      <th>0</th>\n",
              "      <th>1</th>\n",
              "      <th>2</th>\n",
              "      <th>3</th>\n",
              "      <th>4</th>\n",
              "      <th>5</th>\n",
              "      <th>6</th>\n",
              "      <th>7</th>\n",
              "      <th>8</th>\n",
              "      <th>9</th>\n",
              "      <th>10</th>\n",
              "      <th>11</th>\n",
              "      <th>12</th>\n",
              "      <th>13</th>\n",
              "      <th>14</th>\n",
              "      <th>15</th>\n",
              "      <th>16</th>\n",
              "      <th>17</th>\n",
              "      <th>18</th>\n",
              "      <th>19</th>\n",
              "      <th>...</th>\n",
              "      <th>9961</th>\n",
              "      <th>9962</th>\n",
              "      <th>9963</th>\n",
              "      <th>9964</th>\n",
              "      <th>9965</th>\n",
              "      <th>9966</th>\n",
              "      <th>9967</th>\n",
              "      <th>9968</th>\n",
              "      <th>9969</th>\n",
              "      <th>9970</th>\n",
              "      <th>9971</th>\n",
              "      <th>9972</th>\n",
              "      <th>9973</th>\n",
              "      <th>9974</th>\n",
              "      <th>9975</th>\n",
              "      <th>9976</th>\n",
              "      <th>9977</th>\n",
              "      <th>9978</th>\n",
              "      <th>9979</th>\n",
              "      <th>9980</th>\n",
              "      <th>9981</th>\n",
              "      <th>9982</th>\n",
              "      <th>9983</th>\n",
              "      <th>9984</th>\n",
              "      <th>9985</th>\n",
              "      <th>9986</th>\n",
              "      <th>9987</th>\n",
              "      <th>9988</th>\n",
              "      <th>9989</th>\n",
              "      <th>9990</th>\n",
              "      <th>9991</th>\n",
              "      <th>9992</th>\n",
              "      <th>9993</th>\n",
              "      <th>9994</th>\n",
              "      <th>9995</th>\n",
              "      <th>9996</th>\n",
              "      <th>9997</th>\n",
              "      <th>9998</th>\n",
              "      <th>9999</th>\n",
              "      <th>label</th>\n",
              "    </tr>\n",
              "  </thead>\n",
              "  <tbody>\n",
              "    <tr>\n",
              "      <th>0</th>\n",
              "      <td>0.002083</td>\n",
              "      <td>0.002083</td>\n",
              "      <td>0.002083</td>\n",
              "      <td>0.002083</td>\n",
              "      <td>0.002083</td>\n",
              "      <td>0.200648</td>\n",
              "      <td>0.002083</td>\n",
              "      <td>0.002083</td>\n",
              "      <td>0.319373</td>\n",
              "      <td>0.043750</td>\n",
              "      <td>0.086025</td>\n",
              "      <td>0.002083</td>\n",
              "      <td>0.002083</td>\n",
              "      <td>0.179275</td>\n",
              "      <td>0.002083</td>\n",
              "      <td>0.002083</td>\n",
              "      <td>0.002083</td>\n",
              "      <td>0.100094</td>\n",
              "      <td>0.043750</td>\n",
              "      <td>0.002083</td>\n",
              "      <td>0.0</td>\n",
              "      <td>0.0</td>\n",
              "      <td>0.0</td>\n",
              "      <td>0.0</td>\n",
              "      <td>0.0</td>\n",
              "      <td>0.0</td>\n",
              "      <td>0.0</td>\n",
              "      <td>0.0</td>\n",
              "      <td>0.0</td>\n",
              "      <td>0.0</td>\n",
              "      <td>0.0</td>\n",
              "      <td>0.0</td>\n",
              "      <td>0.0</td>\n",
              "      <td>0.0</td>\n",
              "      <td>0.0</td>\n",
              "      <td>0.0</td>\n",
              "      <td>0.0</td>\n",
              "      <td>0.0</td>\n",
              "      <td>0.0</td>\n",
              "      <td>0.0</td>\n",
              "      <td>...</td>\n",
              "      <td>0</td>\n",
              "      <td>0</td>\n",
              "      <td>0</td>\n",
              "      <td>0</td>\n",
              "      <td>0</td>\n",
              "      <td>0</td>\n",
              "      <td>0</td>\n",
              "      <td>0</td>\n",
              "      <td>0</td>\n",
              "      <td>0</td>\n",
              "      <td>0</td>\n",
              "      <td>0</td>\n",
              "      <td>0</td>\n",
              "      <td>0</td>\n",
              "      <td>0</td>\n",
              "      <td>0</td>\n",
              "      <td>0</td>\n",
              "      <td>0</td>\n",
              "      <td>0</td>\n",
              "      <td>0</td>\n",
              "      <td>0</td>\n",
              "      <td>0</td>\n",
              "      <td>0</td>\n",
              "      <td>0</td>\n",
              "      <td>0</td>\n",
              "      <td>0</td>\n",
              "      <td>0</td>\n",
              "      <td>0</td>\n",
              "      <td>0</td>\n",
              "      <td>0</td>\n",
              "      <td>0</td>\n",
              "      <td>0</td>\n",
              "      <td>0</td>\n",
              "      <td>0</td>\n",
              "      <td>0</td>\n",
              "      <td>0</td>\n",
              "      <td>0</td>\n",
              "      <td>0</td>\n",
              "      <td>0</td>\n",
              "      <td>7.0</td>\n",
              "    </tr>\n",
              "    <tr>\n",
              "      <th>1</th>\n",
              "      <td>0.002632</td>\n",
              "      <td>0.283841</td>\n",
              "      <td>0.002632</td>\n",
              "      <td>0.002632</td>\n",
              "      <td>0.002632</td>\n",
              "      <td>0.002632</td>\n",
              "      <td>0.002632</td>\n",
              "      <td>0.096099</td>\n",
              "      <td>0.002632</td>\n",
              "      <td>0.002632</td>\n",
              "      <td>0.002632</td>\n",
              "      <td>0.002632</td>\n",
              "      <td>0.002632</td>\n",
              "      <td>0.002632</td>\n",
              "      <td>0.002632</td>\n",
              "      <td>0.002632</td>\n",
              "      <td>0.420609</td>\n",
              "      <td>0.104713</td>\n",
              "      <td>0.002632</td>\n",
              "      <td>0.055263</td>\n",
              "      <td>0.0</td>\n",
              "      <td>0.0</td>\n",
              "      <td>0.0</td>\n",
              "      <td>0.0</td>\n",
              "      <td>0.0</td>\n",
              "      <td>0.0</td>\n",
              "      <td>0.0</td>\n",
              "      <td>0.0</td>\n",
              "      <td>0.0</td>\n",
              "      <td>0.0</td>\n",
              "      <td>0.0</td>\n",
              "      <td>0.0</td>\n",
              "      <td>0.0</td>\n",
              "      <td>0.0</td>\n",
              "      <td>0.0</td>\n",
              "      <td>0.0</td>\n",
              "      <td>0.0</td>\n",
              "      <td>0.0</td>\n",
              "      <td>0.0</td>\n",
              "      <td>0.0</td>\n",
              "      <td>...</td>\n",
              "      <td>0</td>\n",
              "      <td>0</td>\n",
              "      <td>0</td>\n",
              "      <td>0</td>\n",
              "      <td>0</td>\n",
              "      <td>0</td>\n",
              "      <td>0</td>\n",
              "      <td>0</td>\n",
              "      <td>0</td>\n",
              "      <td>0</td>\n",
              "      <td>0</td>\n",
              "      <td>0</td>\n",
              "      <td>0</td>\n",
              "      <td>0</td>\n",
              "      <td>0</td>\n",
              "      <td>0</td>\n",
              "      <td>0</td>\n",
              "      <td>0</td>\n",
              "      <td>0</td>\n",
              "      <td>0</td>\n",
              "      <td>0</td>\n",
              "      <td>0</td>\n",
              "      <td>0</td>\n",
              "      <td>0</td>\n",
              "      <td>0</td>\n",
              "      <td>0</td>\n",
              "      <td>0</td>\n",
              "      <td>0</td>\n",
              "      <td>0</td>\n",
              "      <td>0</td>\n",
              "      <td>0</td>\n",
              "      <td>0</td>\n",
              "      <td>0</td>\n",
              "      <td>0</td>\n",
              "      <td>0</td>\n",
              "      <td>0</td>\n",
              "      <td>0</td>\n",
              "      <td>0</td>\n",
              "      <td>0</td>\n",
              "      <td>NaN</td>\n",
              "    </tr>\n",
              "    <tr>\n",
              "      <th>2</th>\n",
              "      <td>0.002083</td>\n",
              "      <td>0.099620</td>\n",
              "      <td>0.080328</td>\n",
              "      <td>0.065531</td>\n",
              "      <td>0.002083</td>\n",
              "      <td>0.080451</td>\n",
              "      <td>0.141737</td>\n",
              "      <td>0.198941</td>\n",
              "      <td>0.162791</td>\n",
              "      <td>0.002083</td>\n",
              "      <td>0.002083</td>\n",
              "      <td>0.002083</td>\n",
              "      <td>0.002083</td>\n",
              "      <td>0.002083</td>\n",
              "      <td>0.002083</td>\n",
              "      <td>0.002083</td>\n",
              "      <td>0.145600</td>\n",
              "      <td>0.002083</td>\n",
              "      <td>0.002083</td>\n",
              "      <td>0.002083</td>\n",
              "      <td>0.0</td>\n",
              "      <td>0.0</td>\n",
              "      <td>0.0</td>\n",
              "      <td>0.0</td>\n",
              "      <td>0.0</td>\n",
              "      <td>0.0</td>\n",
              "      <td>0.0</td>\n",
              "      <td>0.0</td>\n",
              "      <td>0.0</td>\n",
              "      <td>0.0</td>\n",
              "      <td>0.0</td>\n",
              "      <td>0.0</td>\n",
              "      <td>0.0</td>\n",
              "      <td>0.0</td>\n",
              "      <td>0.0</td>\n",
              "      <td>0.0</td>\n",
              "      <td>0.0</td>\n",
              "      <td>0.0</td>\n",
              "      <td>0.0</td>\n",
              "      <td>0.0</td>\n",
              "      <td>...</td>\n",
              "      <td>0</td>\n",
              "      <td>0</td>\n",
              "      <td>0</td>\n",
              "      <td>0</td>\n",
              "      <td>0</td>\n",
              "      <td>0</td>\n",
              "      <td>0</td>\n",
              "      <td>0</td>\n",
              "      <td>0</td>\n",
              "      <td>0</td>\n",
              "      <td>0</td>\n",
              "      <td>0</td>\n",
              "      <td>0</td>\n",
              "      <td>0</td>\n",
              "      <td>0</td>\n",
              "      <td>0</td>\n",
              "      <td>0</td>\n",
              "      <td>0</td>\n",
              "      <td>0</td>\n",
              "      <td>0</td>\n",
              "      <td>0</td>\n",
              "      <td>0</td>\n",
              "      <td>0</td>\n",
              "      <td>0</td>\n",
              "      <td>0</td>\n",
              "      <td>0</td>\n",
              "      <td>0</td>\n",
              "      <td>0</td>\n",
              "      <td>0</td>\n",
              "      <td>0</td>\n",
              "      <td>0</td>\n",
              "      <td>0</td>\n",
              "      <td>0</td>\n",
              "      <td>0</td>\n",
              "      <td>0</td>\n",
              "      <td>0</td>\n",
              "      <td>0</td>\n",
              "      <td>0</td>\n",
              "      <td>0</td>\n",
              "      <td>NaN</td>\n",
              "    </tr>\n",
              "    <tr>\n",
              "      <th>3</th>\n",
              "      <td>0.067335</td>\n",
              "      <td>0.083499</td>\n",
              "      <td>0.023864</td>\n",
              "      <td>0.023876</td>\n",
              "      <td>0.001136</td>\n",
              "      <td>0.031676</td>\n",
              "      <td>0.124005</td>\n",
              "      <td>0.145641</td>\n",
              "      <td>0.069324</td>\n",
              "      <td>0.001136</td>\n",
              "      <td>0.040347</td>\n",
              "      <td>0.001136</td>\n",
              "      <td>0.001136</td>\n",
              "      <td>0.034408</td>\n",
              "      <td>0.001136</td>\n",
              "      <td>0.001136</td>\n",
              "      <td>0.148594</td>\n",
              "      <td>0.058554</td>\n",
              "      <td>0.024561</td>\n",
              "      <td>0.117497</td>\n",
              "      <td>0.0</td>\n",
              "      <td>0.0</td>\n",
              "      <td>0.0</td>\n",
              "      <td>0.0</td>\n",
              "      <td>0.0</td>\n",
              "      <td>0.0</td>\n",
              "      <td>0.0</td>\n",
              "      <td>0.0</td>\n",
              "      <td>0.0</td>\n",
              "      <td>0.0</td>\n",
              "      <td>0.0</td>\n",
              "      <td>0.0</td>\n",
              "      <td>0.0</td>\n",
              "      <td>0.0</td>\n",
              "      <td>0.0</td>\n",
              "      <td>0.0</td>\n",
              "      <td>0.0</td>\n",
              "      <td>0.0</td>\n",
              "      <td>0.0</td>\n",
              "      <td>0.0</td>\n",
              "      <td>...</td>\n",
              "      <td>0</td>\n",
              "      <td>0</td>\n",
              "      <td>0</td>\n",
              "      <td>0</td>\n",
              "      <td>0</td>\n",
              "      <td>0</td>\n",
              "      <td>0</td>\n",
              "      <td>0</td>\n",
              "      <td>0</td>\n",
              "      <td>0</td>\n",
              "      <td>0</td>\n",
              "      <td>0</td>\n",
              "      <td>0</td>\n",
              "      <td>0</td>\n",
              "      <td>0</td>\n",
              "      <td>0</td>\n",
              "      <td>0</td>\n",
              "      <td>0</td>\n",
              "      <td>0</td>\n",
              "      <td>0</td>\n",
              "      <td>0</td>\n",
              "      <td>0</td>\n",
              "      <td>0</td>\n",
              "      <td>0</td>\n",
              "      <td>0</td>\n",
              "      <td>0</td>\n",
              "      <td>0</td>\n",
              "      <td>0</td>\n",
              "      <td>0</td>\n",
              "      <td>0</td>\n",
              "      <td>0</td>\n",
              "      <td>0</td>\n",
              "      <td>0</td>\n",
              "      <td>0</td>\n",
              "      <td>0</td>\n",
              "      <td>0</td>\n",
              "      <td>0</td>\n",
              "      <td>0</td>\n",
              "      <td>0</td>\n",
              "      <td>1.0</td>\n",
              "    </tr>\n",
              "    <tr>\n",
              "      <th>4</th>\n",
              "      <td>0.040470</td>\n",
              "      <td>0.085382</td>\n",
              "      <td>0.032813</td>\n",
              "      <td>0.046741</td>\n",
              "      <td>0.001563</td>\n",
              "      <td>0.039564</td>\n",
              "      <td>0.060067</td>\n",
              "      <td>0.161504</td>\n",
              "      <td>0.098087</td>\n",
              "      <td>0.001563</td>\n",
              "      <td>0.113916</td>\n",
              "      <td>0.001563</td>\n",
              "      <td>0.032813</td>\n",
              "      <td>0.125521</td>\n",
              "      <td>0.001563</td>\n",
              "      <td>0.001563</td>\n",
              "      <td>0.150622</td>\n",
              "      <td>0.001563</td>\n",
              "      <td>0.001563</td>\n",
              "      <td>0.001563</td>\n",
              "      <td>0.0</td>\n",
              "      <td>0.0</td>\n",
              "      <td>0.0</td>\n",
              "      <td>0.0</td>\n",
              "      <td>0.0</td>\n",
              "      <td>0.0</td>\n",
              "      <td>0.0</td>\n",
              "      <td>0.0</td>\n",
              "      <td>0.0</td>\n",
              "      <td>0.0</td>\n",
              "      <td>0.0</td>\n",
              "      <td>0.0</td>\n",
              "      <td>0.0</td>\n",
              "      <td>0.0</td>\n",
              "      <td>0.0</td>\n",
              "      <td>0.0</td>\n",
              "      <td>0.0</td>\n",
              "      <td>0.0</td>\n",
              "      <td>0.0</td>\n",
              "      <td>0.0</td>\n",
              "      <td>...</td>\n",
              "      <td>0</td>\n",
              "      <td>0</td>\n",
              "      <td>0</td>\n",
              "      <td>0</td>\n",
              "      <td>0</td>\n",
              "      <td>0</td>\n",
              "      <td>0</td>\n",
              "      <td>0</td>\n",
              "      <td>0</td>\n",
              "      <td>0</td>\n",
              "      <td>0</td>\n",
              "      <td>0</td>\n",
              "      <td>0</td>\n",
              "      <td>0</td>\n",
              "      <td>0</td>\n",
              "      <td>0</td>\n",
              "      <td>0</td>\n",
              "      <td>0</td>\n",
              "      <td>0</td>\n",
              "      <td>0</td>\n",
              "      <td>0</td>\n",
              "      <td>0</td>\n",
              "      <td>0</td>\n",
              "      <td>0</td>\n",
              "      <td>0</td>\n",
              "      <td>0</td>\n",
              "      <td>0</td>\n",
              "      <td>0</td>\n",
              "      <td>0</td>\n",
              "      <td>0</td>\n",
              "      <td>0</td>\n",
              "      <td>0</td>\n",
              "      <td>0</td>\n",
              "      <td>0</td>\n",
              "      <td>0</td>\n",
              "      <td>0</td>\n",
              "      <td>0</td>\n",
              "      <td>0</td>\n",
              "      <td>0</td>\n",
              "      <td>NaN</td>\n",
              "    </tr>\n",
              "    <tr>\n",
              "      <th>...</th>\n",
              "      <td>...</td>\n",
              "      <td>...</td>\n",
              "      <td>...</td>\n",
              "      <td>...</td>\n",
              "      <td>...</td>\n",
              "      <td>...</td>\n",
              "      <td>...</td>\n",
              "      <td>...</td>\n",
              "      <td>...</td>\n",
              "      <td>...</td>\n",
              "      <td>...</td>\n",
              "      <td>...</td>\n",
              "      <td>...</td>\n",
              "      <td>...</td>\n",
              "      <td>...</td>\n",
              "      <td>...</td>\n",
              "      <td>...</td>\n",
              "      <td>...</td>\n",
              "      <td>...</td>\n",
              "      <td>...</td>\n",
              "      <td>...</td>\n",
              "      <td>...</td>\n",
              "      <td>...</td>\n",
              "      <td>...</td>\n",
              "      <td>...</td>\n",
              "      <td>...</td>\n",
              "      <td>...</td>\n",
              "      <td>...</td>\n",
              "      <td>...</td>\n",
              "      <td>...</td>\n",
              "      <td>...</td>\n",
              "      <td>...</td>\n",
              "      <td>...</td>\n",
              "      <td>...</td>\n",
              "      <td>...</td>\n",
              "      <td>...</td>\n",
              "      <td>...</td>\n",
              "      <td>...</td>\n",
              "      <td>...</td>\n",
              "      <td>...</td>\n",
              "      <td>...</td>\n",
              "      <td>...</td>\n",
              "      <td>...</td>\n",
              "      <td>...</td>\n",
              "      <td>...</td>\n",
              "      <td>...</td>\n",
              "      <td>...</td>\n",
              "      <td>...</td>\n",
              "      <td>...</td>\n",
              "      <td>...</td>\n",
              "      <td>...</td>\n",
              "      <td>...</td>\n",
              "      <td>...</td>\n",
              "      <td>...</td>\n",
              "      <td>...</td>\n",
              "      <td>...</td>\n",
              "      <td>...</td>\n",
              "      <td>...</td>\n",
              "      <td>...</td>\n",
              "      <td>...</td>\n",
              "      <td>...</td>\n",
              "      <td>...</td>\n",
              "      <td>...</td>\n",
              "      <td>...</td>\n",
              "      <td>...</td>\n",
              "      <td>...</td>\n",
              "      <td>...</td>\n",
              "      <td>...</td>\n",
              "      <td>...</td>\n",
              "      <td>...</td>\n",
              "      <td>...</td>\n",
              "      <td>...</td>\n",
              "      <td>...</td>\n",
              "      <td>...</td>\n",
              "      <td>...</td>\n",
              "      <td>...</td>\n",
              "      <td>...</td>\n",
              "      <td>...</td>\n",
              "      <td>...</td>\n",
              "      <td>...</td>\n",
              "      <td>...</td>\n",
              "    </tr>\n",
              "    <tr>\n",
              "      <th>7914</th>\n",
              "      <td>0.008333</td>\n",
              "      <td>0.008333</td>\n",
              "      <td>0.008333</td>\n",
              "      <td>0.008333</td>\n",
              "      <td>0.008333</td>\n",
              "      <td>0.008333</td>\n",
              "      <td>0.008333</td>\n",
              "      <td>0.008333</td>\n",
              "      <td>0.008333</td>\n",
              "      <td>0.008333</td>\n",
              "      <td>0.008333</td>\n",
              "      <td>0.008333</td>\n",
              "      <td>0.008333</td>\n",
              "      <td>0.399472</td>\n",
              "      <td>0.008333</td>\n",
              "      <td>0.008333</td>\n",
              "      <td>0.450528</td>\n",
              "      <td>0.008333</td>\n",
              "      <td>0.008333</td>\n",
              "      <td>0.008333</td>\n",
              "      <td>0.0</td>\n",
              "      <td>0.0</td>\n",
              "      <td>0.0</td>\n",
              "      <td>0.0</td>\n",
              "      <td>0.0</td>\n",
              "      <td>0.0</td>\n",
              "      <td>0.0</td>\n",
              "      <td>0.0</td>\n",
              "      <td>0.0</td>\n",
              "      <td>0.0</td>\n",
              "      <td>0.0</td>\n",
              "      <td>0.0</td>\n",
              "      <td>0.0</td>\n",
              "      <td>0.0</td>\n",
              "      <td>0.0</td>\n",
              "      <td>0.0</td>\n",
              "      <td>0.0</td>\n",
              "      <td>0.0</td>\n",
              "      <td>0.0</td>\n",
              "      <td>0.0</td>\n",
              "      <td>...</td>\n",
              "      <td>0</td>\n",
              "      <td>0</td>\n",
              "      <td>0</td>\n",
              "      <td>0</td>\n",
              "      <td>0</td>\n",
              "      <td>0</td>\n",
              "      <td>0</td>\n",
              "      <td>0</td>\n",
              "      <td>0</td>\n",
              "      <td>0</td>\n",
              "      <td>0</td>\n",
              "      <td>0</td>\n",
              "      <td>0</td>\n",
              "      <td>0</td>\n",
              "      <td>0</td>\n",
              "      <td>0</td>\n",
              "      <td>0</td>\n",
              "      <td>0</td>\n",
              "      <td>0</td>\n",
              "      <td>0</td>\n",
              "      <td>0</td>\n",
              "      <td>0</td>\n",
              "      <td>0</td>\n",
              "      <td>0</td>\n",
              "      <td>0</td>\n",
              "      <td>0</td>\n",
              "      <td>0</td>\n",
              "      <td>0</td>\n",
              "      <td>0</td>\n",
              "      <td>0</td>\n",
              "      <td>0</td>\n",
              "      <td>0</td>\n",
              "      <td>0</td>\n",
              "      <td>0</td>\n",
              "      <td>0</td>\n",
              "      <td>0</td>\n",
              "      <td>0</td>\n",
              "      <td>0</td>\n",
              "      <td>0</td>\n",
              "      <td>6.0</td>\n",
              "    </tr>\n",
              "    <tr>\n",
              "      <th>7915</th>\n",
              "      <td>0.001282</td>\n",
              "      <td>0.532467</td>\n",
              "      <td>0.001282</td>\n",
              "      <td>0.001282</td>\n",
              "      <td>0.001282</td>\n",
              "      <td>0.001282</td>\n",
              "      <td>0.001282</td>\n",
              "      <td>0.001282</td>\n",
              "      <td>0.001282</td>\n",
              "      <td>0.001282</td>\n",
              "      <td>0.001282</td>\n",
              "      <td>0.001282</td>\n",
              "      <td>0.001282</td>\n",
              "      <td>0.001282</td>\n",
              "      <td>0.032790</td>\n",
              "      <td>0.001282</td>\n",
              "      <td>0.412947</td>\n",
              "      <td>0.001282</td>\n",
              "      <td>0.001282</td>\n",
              "      <td>0.001282</td>\n",
              "      <td>0.0</td>\n",
              "      <td>0.0</td>\n",
              "      <td>0.0</td>\n",
              "      <td>0.0</td>\n",
              "      <td>0.0</td>\n",
              "      <td>0.0</td>\n",
              "      <td>0.0</td>\n",
              "      <td>0.0</td>\n",
              "      <td>0.0</td>\n",
              "      <td>0.0</td>\n",
              "      <td>0.0</td>\n",
              "      <td>0.0</td>\n",
              "      <td>0.0</td>\n",
              "      <td>0.0</td>\n",
              "      <td>0.0</td>\n",
              "      <td>0.0</td>\n",
              "      <td>0.0</td>\n",
              "      <td>0.0</td>\n",
              "      <td>0.0</td>\n",
              "      <td>0.0</td>\n",
              "      <td>...</td>\n",
              "      <td>0</td>\n",
              "      <td>0</td>\n",
              "      <td>0</td>\n",
              "      <td>0</td>\n",
              "      <td>0</td>\n",
              "      <td>0</td>\n",
              "      <td>0</td>\n",
              "      <td>0</td>\n",
              "      <td>0</td>\n",
              "      <td>0</td>\n",
              "      <td>0</td>\n",
              "      <td>0</td>\n",
              "      <td>0</td>\n",
              "      <td>0</td>\n",
              "      <td>0</td>\n",
              "      <td>0</td>\n",
              "      <td>0</td>\n",
              "      <td>0</td>\n",
              "      <td>0</td>\n",
              "      <td>0</td>\n",
              "      <td>0</td>\n",
              "      <td>0</td>\n",
              "      <td>0</td>\n",
              "      <td>0</td>\n",
              "      <td>0</td>\n",
              "      <td>0</td>\n",
              "      <td>0</td>\n",
              "      <td>0</td>\n",
              "      <td>0</td>\n",
              "      <td>0</td>\n",
              "      <td>0</td>\n",
              "      <td>0</td>\n",
              "      <td>0</td>\n",
              "      <td>0</td>\n",
              "      <td>0</td>\n",
              "      <td>0</td>\n",
              "      <td>0</td>\n",
              "      <td>0</td>\n",
              "      <td>0</td>\n",
              "      <td>12.0</td>\n",
              "    </tr>\n",
              "    <tr>\n",
              "      <th>7916</th>\n",
              "      <td>0.003571</td>\n",
              "      <td>0.561052</td>\n",
              "      <td>0.003571</td>\n",
              "      <td>0.003571</td>\n",
              "      <td>0.003571</td>\n",
              "      <td>0.003571</td>\n",
              "      <td>0.003571</td>\n",
              "      <td>0.003571</td>\n",
              "      <td>0.003571</td>\n",
              "      <td>0.003571</td>\n",
              "      <td>0.003571</td>\n",
              "      <td>0.003571</td>\n",
              "      <td>0.003571</td>\n",
              "      <td>0.003571</td>\n",
              "      <td>0.003571</td>\n",
              "      <td>0.003571</td>\n",
              "      <td>0.374663</td>\n",
              "      <td>0.003571</td>\n",
              "      <td>0.003571</td>\n",
              "      <td>0.003571</td>\n",
              "      <td>0.0</td>\n",
              "      <td>0.0</td>\n",
              "      <td>0.0</td>\n",
              "      <td>0.0</td>\n",
              "      <td>0.0</td>\n",
              "      <td>0.0</td>\n",
              "      <td>0.0</td>\n",
              "      <td>0.0</td>\n",
              "      <td>0.0</td>\n",
              "      <td>0.0</td>\n",
              "      <td>0.0</td>\n",
              "      <td>0.0</td>\n",
              "      <td>0.0</td>\n",
              "      <td>0.0</td>\n",
              "      <td>0.0</td>\n",
              "      <td>0.0</td>\n",
              "      <td>0.0</td>\n",
              "      <td>0.0</td>\n",
              "      <td>0.0</td>\n",
              "      <td>0.0</td>\n",
              "      <td>...</td>\n",
              "      <td>0</td>\n",
              "      <td>0</td>\n",
              "      <td>0</td>\n",
              "      <td>0</td>\n",
              "      <td>0</td>\n",
              "      <td>0</td>\n",
              "      <td>0</td>\n",
              "      <td>0</td>\n",
              "      <td>0</td>\n",
              "      <td>0</td>\n",
              "      <td>0</td>\n",
              "      <td>0</td>\n",
              "      <td>0</td>\n",
              "      <td>0</td>\n",
              "      <td>0</td>\n",
              "      <td>0</td>\n",
              "      <td>0</td>\n",
              "      <td>0</td>\n",
              "      <td>0</td>\n",
              "      <td>0</td>\n",
              "      <td>0</td>\n",
              "      <td>0</td>\n",
              "      <td>0</td>\n",
              "      <td>0</td>\n",
              "      <td>0</td>\n",
              "      <td>0</td>\n",
              "      <td>0</td>\n",
              "      <td>0</td>\n",
              "      <td>0</td>\n",
              "      <td>0</td>\n",
              "      <td>0</td>\n",
              "      <td>0</td>\n",
              "      <td>0</td>\n",
              "      <td>0</td>\n",
              "      <td>0</td>\n",
              "      <td>0</td>\n",
              "      <td>0</td>\n",
              "      <td>0</td>\n",
              "      <td>0</td>\n",
              "      <td>15.0</td>\n",
              "    </tr>\n",
              "    <tr>\n",
              "      <th>7917</th>\n",
              "      <td>0.128125</td>\n",
              "      <td>0.690625</td>\n",
              "      <td>0.003125</td>\n",
              "      <td>0.003125</td>\n",
              "      <td>0.003125</td>\n",
              "      <td>0.003125</td>\n",
              "      <td>0.003125</td>\n",
              "      <td>0.003125</td>\n",
              "      <td>0.003125</td>\n",
              "      <td>0.003125</td>\n",
              "      <td>0.128125</td>\n",
              "      <td>0.003125</td>\n",
              "      <td>0.003125</td>\n",
              "      <td>0.003125</td>\n",
              "      <td>0.003125</td>\n",
              "      <td>0.003125</td>\n",
              "      <td>0.003125</td>\n",
              "      <td>0.003125</td>\n",
              "      <td>0.003125</td>\n",
              "      <td>0.003125</td>\n",
              "      <td>0.0</td>\n",
              "      <td>0.0</td>\n",
              "      <td>0.0</td>\n",
              "      <td>0.0</td>\n",
              "      <td>0.0</td>\n",
              "      <td>0.0</td>\n",
              "      <td>0.0</td>\n",
              "      <td>0.0</td>\n",
              "      <td>0.0</td>\n",
              "      <td>0.0</td>\n",
              "      <td>0.0</td>\n",
              "      <td>0.0</td>\n",
              "      <td>0.0</td>\n",
              "      <td>0.0</td>\n",
              "      <td>0.0</td>\n",
              "      <td>0.0</td>\n",
              "      <td>0.0</td>\n",
              "      <td>0.0</td>\n",
              "      <td>0.0</td>\n",
              "      <td>0.0</td>\n",
              "      <td>...</td>\n",
              "      <td>0</td>\n",
              "      <td>0</td>\n",
              "      <td>0</td>\n",
              "      <td>0</td>\n",
              "      <td>0</td>\n",
              "      <td>0</td>\n",
              "      <td>0</td>\n",
              "      <td>0</td>\n",
              "      <td>0</td>\n",
              "      <td>0</td>\n",
              "      <td>0</td>\n",
              "      <td>0</td>\n",
              "      <td>0</td>\n",
              "      <td>0</td>\n",
              "      <td>0</td>\n",
              "      <td>0</td>\n",
              "      <td>0</td>\n",
              "      <td>0</td>\n",
              "      <td>0</td>\n",
              "      <td>0</td>\n",
              "      <td>0</td>\n",
              "      <td>0</td>\n",
              "      <td>0</td>\n",
              "      <td>0</td>\n",
              "      <td>0</td>\n",
              "      <td>0</td>\n",
              "      <td>0</td>\n",
              "      <td>0</td>\n",
              "      <td>0</td>\n",
              "      <td>0</td>\n",
              "      <td>0</td>\n",
              "      <td>0</td>\n",
              "      <td>0</td>\n",
              "      <td>0</td>\n",
              "      <td>0</td>\n",
              "      <td>0</td>\n",
              "      <td>0</td>\n",
              "      <td>0</td>\n",
              "      <td>0</td>\n",
              "      <td>15.0</td>\n",
              "    </tr>\n",
              "    <tr>\n",
              "      <th>7918</th>\n",
              "      <td>0.000833</td>\n",
              "      <td>0.000833</td>\n",
              "      <td>0.131624</td>\n",
              "      <td>0.000833</td>\n",
              "      <td>0.000833</td>\n",
              "      <td>0.000833</td>\n",
              "      <td>0.000833</td>\n",
              "      <td>0.000833</td>\n",
              "      <td>0.000833</td>\n",
              "      <td>0.000833</td>\n",
              "      <td>0.000833</td>\n",
              "      <td>0.000833</td>\n",
              "      <td>0.000833</td>\n",
              "      <td>0.000833</td>\n",
              "      <td>0.000833</td>\n",
              "      <td>0.000833</td>\n",
              "      <td>0.621692</td>\n",
              "      <td>0.232518</td>\n",
              "      <td>0.000833</td>\n",
              "      <td>0.000833</td>\n",
              "      <td>0.0</td>\n",
              "      <td>0.0</td>\n",
              "      <td>0.0</td>\n",
              "      <td>0.0</td>\n",
              "      <td>0.0</td>\n",
              "      <td>0.0</td>\n",
              "      <td>0.0</td>\n",
              "      <td>0.0</td>\n",
              "      <td>0.0</td>\n",
              "      <td>0.0</td>\n",
              "      <td>0.0</td>\n",
              "      <td>0.0</td>\n",
              "      <td>0.0</td>\n",
              "      <td>0.0</td>\n",
              "      <td>0.0</td>\n",
              "      <td>0.0</td>\n",
              "      <td>0.0</td>\n",
              "      <td>0.0</td>\n",
              "      <td>0.0</td>\n",
              "      <td>0.0</td>\n",
              "      <td>...</td>\n",
              "      <td>0</td>\n",
              "      <td>0</td>\n",
              "      <td>0</td>\n",
              "      <td>0</td>\n",
              "      <td>0</td>\n",
              "      <td>1</td>\n",
              "      <td>0</td>\n",
              "      <td>0</td>\n",
              "      <td>0</td>\n",
              "      <td>0</td>\n",
              "      <td>0</td>\n",
              "      <td>0</td>\n",
              "      <td>0</td>\n",
              "      <td>0</td>\n",
              "      <td>0</td>\n",
              "      <td>0</td>\n",
              "      <td>0</td>\n",
              "      <td>0</td>\n",
              "      <td>0</td>\n",
              "      <td>0</td>\n",
              "      <td>0</td>\n",
              "      <td>0</td>\n",
              "      <td>0</td>\n",
              "      <td>0</td>\n",
              "      <td>0</td>\n",
              "      <td>0</td>\n",
              "      <td>0</td>\n",
              "      <td>0</td>\n",
              "      <td>0</td>\n",
              "      <td>0</td>\n",
              "      <td>0</td>\n",
              "      <td>0</td>\n",
              "      <td>0</td>\n",
              "      <td>0</td>\n",
              "      <td>0</td>\n",
              "      <td>0</td>\n",
              "      <td>0</td>\n",
              "      <td>0</td>\n",
              "      <td>0</td>\n",
              "      <td>8.0</td>\n",
              "    </tr>\n",
              "  </tbody>\n",
              "</table>\n",
              "<p>11314 rows × 20021 columns</p>\n",
              "</div>"
            ],
            "text/plain": [
              "             0         1         2         3  ...  9997  9998  9999  label\n",
              "0     0.002083  0.002083  0.002083  0.002083  ...     0     0     0    7.0\n",
              "1     0.002632  0.283841  0.002632  0.002632  ...     0     0     0    NaN\n",
              "2     0.002083  0.099620  0.080328  0.065531  ...     0     0     0    NaN\n",
              "3     0.067335  0.083499  0.023864  0.023876  ...     0     0     0    1.0\n",
              "4     0.040470  0.085382  0.032813  0.046741  ...     0     0     0    NaN\n",
              "...        ...       ...       ...       ...  ...   ...   ...   ...    ...\n",
              "7914  0.008333  0.008333  0.008333  0.008333  ...     0     0     0    6.0\n",
              "7915  0.001282  0.532467  0.001282  0.001282  ...     0     0     0   12.0\n",
              "7916  0.003571  0.561052  0.003571  0.003571  ...     0     0     0   15.0\n",
              "7917  0.128125  0.690625  0.003125  0.003125  ...     0     0     0   15.0\n",
              "7918  0.000833  0.000833  0.131624  0.000833  ...     0     0     0    8.0\n",
              "\n",
              "[11314 rows x 20021 columns]"
            ]
          },
          "metadata": {
            "tags": []
          },
          "execution_count": 157
        }
      ]
    },
    {
      "cell_type": "code",
      "metadata": {
        "id": "yLDo8jSOEun5"
      },
      "source": [
        "X_train = train_data.drop(['label'], axis=1)"
      ],
      "execution_count": 158,
      "outputs": []
    },
    {
      "cell_type": "code",
      "metadata": {
        "id": "riTYEDjuD6Ue"
      },
      "source": [
        "final_model = MultinomialNB()"
      ],
      "execution_count": 159,
      "outputs": []
    },
    {
      "cell_type": "code",
      "metadata": {
        "colab": {
          "base_uri": "https://localhost:8080/"
        },
        "id": "oGsy3Zx5dhaD",
        "outputId": "8bc46f08-9736-4db7-ef20-093cd61a82fe"
      },
      "source": [
        "train_data.isna().values.any()"
      ],
      "execution_count": 160,
      "outputs": [
        {
          "output_type": "execute_result",
          "data": {
            "text/plain": [
              "True"
            ]
          },
          "metadata": {
            "tags": []
          },
          "execution_count": 160
        }
      ]
    },
    {
      "cell_type": "code",
      "metadata": {
        "colab": {
          "base_uri": "https://localhost:8080/"
        },
        "id": "jFeWqaEHd1GG",
        "outputId": "922818e8-418e-47ed-f21b-fb5989d1d18e"
      },
      "source": [
        "train_data=train_data.fillna(0)"
      ],
      "execution_count": 184,
      "outputs": [
        {
          "output_type": "execute_result",
          "data": {
            "text/plain": [
              "(11314, 20021)"
            ]
          },
          "metadata": {
            "tags": []
          },
          "execution_count": 184
        }
      ]
    },
    {
      "cell_type": "code",
      "metadata": {
        "colab": {
          "base_uri": "https://localhost:8080/"
        },
        "id": "pbWJ-MR7EcYm",
        "outputId": "74ef0537-90e8-4f43-9994-2b28a4e7a423"
      },
      "source": [
        "final_model.fit(X_train, train_data['label'])"
      ],
      "execution_count": 185,
      "outputs": [
        {
          "output_type": "execute_result",
          "data": {
            "text/plain": [
              "MultinomialNB(alpha=1.0, class_prior=None, fit_prior=True)"
            ]
          },
          "metadata": {
            "tags": []
          },
          "execution_count": 185
        }
      ]
    },
    {
      "cell_type": "code",
      "metadata": {
        "id": "Mj2aGXtsFTn0",
        "colab": {
          "base_uri": "https://localhost:8080/",
          "height": 417
        },
        "outputId": "a4377815-9e8e-4d4b-a535-2d892cdf61e6"
      },
      "source": [
        "\n",
        "newsgroups_test_df"
      ],
      "execution_count": 84,
      "outputs": [
        {
          "output_type": "execute_result",
          "data": {
            "text/html": [
              "<div>\n",
              "<style scoped>\n",
              "    .dataframe tbody tr th:only-of-type {\n",
              "        vertical-align: middle;\n",
              "    }\n",
              "\n",
              "    .dataframe tbody tr th {\n",
              "        vertical-align: top;\n",
              "    }\n",
              "\n",
              "    .dataframe thead th {\n",
              "        text-align: right;\n",
              "    }\n",
              "</style>\n",
              "<table border=\"1\" class=\"dataframe\">\n",
              "  <thead>\n",
              "    <tr style=\"text-align: right;\">\n",
              "      <th></th>\n",
              "      <th>data</th>\n",
              "      <th>target</th>\n",
              "    </tr>\n",
              "  </thead>\n",
              "  <tbody>\n",
              "    <tr>\n",
              "      <th>0</th>\n",
              "      <td>I am a little confused on all of the models of...</td>\n",
              "      <td>7</td>\n",
              "    </tr>\n",
              "    <tr>\n",
              "      <th>1</th>\n",
              "      <td>I'm not familiar at all with the format of the...</td>\n",
              "      <td>5</td>\n",
              "    </tr>\n",
              "    <tr>\n",
              "      <th>2</th>\n",
              "      <td>\\nIn a word, yes.\\n</td>\n",
              "      <td>0</td>\n",
              "    </tr>\n",
              "    <tr>\n",
              "      <th>3</th>\n",
              "      <td>\\nThey were attacking the Iraqis to drive them...</td>\n",
              "      <td>17</td>\n",
              "    </tr>\n",
              "    <tr>\n",
              "      <th>4</th>\n",
              "      <td>\\nI've just spent two solid months arguing tha...</td>\n",
              "      <td>19</td>\n",
              "    </tr>\n",
              "    <tr>\n",
              "      <th>...</th>\n",
              "      <td>...</td>\n",
              "      <td>...</td>\n",
              "    </tr>\n",
              "    <tr>\n",
              "      <th>7527</th>\n",
              "      <td>\\n   Henry, if I read you correctly, you may b...</td>\n",
              "      <td>14</td>\n",
              "    </tr>\n",
              "    <tr>\n",
              "      <th>7528</th>\n",
              "      <td>about\\nthem on\\n\\nActually, I thought Macs wer...</td>\n",
              "      <td>4</td>\n",
              "    </tr>\n",
              "    <tr>\n",
              "      <th>7529</th>\n",
              "      <td>I sent a version of this post out a while ago,...</td>\n",
              "      <td>9</td>\n",
              "    </tr>\n",
              "    <tr>\n",
              "      <th>7530</th>\n",
              "      <td>I have this kit which includes the following :...</td>\n",
              "      <td>6</td>\n",
              "    </tr>\n",
              "    <tr>\n",
              "      <th>7531</th>\n",
              "      <td>\\nFine, but one of the points of this entire d...</td>\n",
              "      <td>15</td>\n",
              "    </tr>\n",
              "  </tbody>\n",
              "</table>\n",
              "<p>7532 rows × 2 columns</p>\n",
              "</div>"
            ],
            "text/plain": [
              "                                                   data  target\n",
              "0     I am a little confused on all of the models of...       7\n",
              "1     I'm not familiar at all with the format of the...       5\n",
              "2                                   \\nIn a word, yes.\\n       0\n",
              "3     \\nThey were attacking the Iraqis to drive them...      17\n",
              "4     \\nI've just spent two solid months arguing tha...      19\n",
              "...                                                 ...     ...\n",
              "7527  \\n   Henry, if I read you correctly, you may b...      14\n",
              "7528  about\\nthem on\\n\\nActually, I thought Macs wer...       4\n",
              "7529  I sent a version of this post out a while ago,...       9\n",
              "7530  I have this kit which includes the following :...       6\n",
              "7531  \\nFine, but one of the points of this entire d...      15\n",
              "\n",
              "[7532 rows x 2 columns]"
            ]
          },
          "metadata": {
            "tags": []
          },
          "execution_count": 84
        }
      ]
    },
    {
      "cell_type": "code",
      "metadata": {
        "colab": {
          "base_uri": "https://localhost:8080/",
          "height": 110
        },
        "id": "HYROFi-ZFaUp",
        "outputId": "11d20373-e8a3-4d18-8400-a948e237a137"
      },
      "source": [
        "newsgroups_test_df['data'] = newsgroups_test_df.apply((lambda x: newsgroups_test_df['data'].str.lower()), axis=0)\n",
        "newsgroups_test_df['data'] = newsgroups_test_df.data.str.replace('[^a-zA-Z]', ' ')\n",
        "newsgroups_test_df['data'] = newsgroups_test_df['data'].apply(lemmed_token_generator)\n",
        "newsgroups_test_df['data'] = newsgroups_test_df['data'].apply(stopword_removal)\n",
        "newsgroups_test_df.head(2)"
      ],
      "execution_count": 163,
      "outputs": [
        {
          "output_type": "execute_result",
          "data": {
            "text/html": [
              "<div>\n",
              "<style scoped>\n",
              "    .dataframe tbody tr th:only-of-type {\n",
              "        vertical-align: middle;\n",
              "    }\n",
              "\n",
              "    .dataframe tbody tr th {\n",
              "        vertical-align: top;\n",
              "    }\n",
              "\n",
              "    .dataframe thead th {\n",
              "        text-align: right;\n",
              "    }\n",
              "</style>\n",
              "<table border=\"1\" class=\"dataframe\">\n",
              "  <thead>\n",
              "    <tr style=\"text-align: right;\">\n",
              "      <th></th>\n",
              "      <th>data</th>\n",
              "      <th>target</th>\n",
              "    </tr>\n",
              "  </thead>\n",
              "  <tbody>\n",
              "    <tr>\n",
              "      <th>0</th>\n",
              "      <td>little confused model bonnevilles heard lse ss...</td>\n",
              "      <td>7</td>\n",
              "    </tr>\n",
              "    <tr>\n",
              "      <th>1</th>\n",
              "      <td>familiar format face thingies seeing folk head...</td>\n",
              "      <td>5</td>\n",
              "    </tr>\n",
              "  </tbody>\n",
              "</table>\n",
              "</div>"
            ],
            "text/plain": [
              "                                                data  target\n",
              "0  little confused model bonnevilles heard lse ss...       7\n",
              "1  familiar format face thingies seeing folk head...       5"
            ]
          },
          "metadata": {
            "tags": []
          },
          "execution_count": 163
        }
      ]
    },
    {
      "cell_type": "code",
      "metadata": {
        "id": "JgNDd_PxFa6W"
      },
      "source": [
        "bow_test, feature_test = bow_features(newsgroups_test_df)"
      ],
      "execution_count": 164,
      "outputs": []
    },
    {
      "cell_type": "code",
      "metadata": {
        "id": "rnOKXI-zGnVG"
      },
      "source": [
        "bigram_bow_test = pd.DataFrame.sparse.from_spmatrix(bow_test)"
      ],
      "execution_count": 165,
      "outputs": []
    },
    {
      "cell_type": "code",
      "metadata": {
        "id": "QWnZxs7IICTV"
      },
      "source": [
        "tf_idf_test, f_names_tf_idf_test = tf_idf_features(newsgroups_test_df)"
      ],
      "execution_count": 166,
      "outputs": []
    },
    {
      "cell_type": "code",
      "metadata": {
        "id": "Ma5QwRdqIW8I"
      },
      "source": [
        "tf_idf_test_df = pd.DataFrame.sparse.from_spmatrix(tf_idf_test)"
      ],
      "execution_count": 167,
      "outputs": []
    },
    {
      "cell_type": "code",
      "metadata": {
        "id": "7ZkTXqwsIu8i"
      },
      "source": [
        "lda_features_test_df = pd.DataFrame(lda_model.transform(bow_test))"
      ],
      "execution_count": 168,
      "outputs": []
    },
    {
      "cell_type": "code",
      "metadata": {
        "id": "PWip5-CoLrhO"
      },
      "source": [
        "X_test = pd.concat([lda_features_test_df,tf_idf_test_df,bigram_bow_test], axis=1)"
      ],
      "execution_count": 169,
      "outputs": []
    },
    {
      "cell_type": "code",
      "metadata": {
        "colab": {
          "base_uri": "https://localhost:8080/",
          "height": 437
        },
        "id": "BZzRnhbujOMz",
        "outputId": "fe31cb7f-0025-4d90-9875-7898643afe58"
      },
      "source": [
        "X_test"
      ],
      "execution_count": 186,
      "outputs": [
        {
          "output_type": "execute_result",
          "data": {
            "text/html": [
              "<div>\n",
              "<style scoped>\n",
              "    .dataframe tbody tr th:only-of-type {\n",
              "        vertical-align: middle;\n",
              "    }\n",
              "\n",
              "    .dataframe tbody tr th {\n",
              "        vertical-align: top;\n",
              "    }\n",
              "\n",
              "    .dataframe thead th {\n",
              "        text-align: right;\n",
              "    }\n",
              "</style>\n",
              "<table border=\"1\" class=\"dataframe\">\n",
              "  <thead>\n",
              "    <tr style=\"text-align: right;\">\n",
              "      <th></th>\n",
              "      <th>0</th>\n",
              "      <th>1</th>\n",
              "      <th>2</th>\n",
              "      <th>3</th>\n",
              "      <th>4</th>\n",
              "      <th>5</th>\n",
              "      <th>6</th>\n",
              "      <th>7</th>\n",
              "      <th>8</th>\n",
              "      <th>9</th>\n",
              "      <th>10</th>\n",
              "      <th>11</th>\n",
              "      <th>12</th>\n",
              "      <th>13</th>\n",
              "      <th>14</th>\n",
              "      <th>15</th>\n",
              "      <th>16</th>\n",
              "      <th>17</th>\n",
              "      <th>18</th>\n",
              "      <th>19</th>\n",
              "      <th>0</th>\n",
              "      <th>1</th>\n",
              "      <th>2</th>\n",
              "      <th>3</th>\n",
              "      <th>4</th>\n",
              "      <th>5</th>\n",
              "      <th>6</th>\n",
              "      <th>7</th>\n",
              "      <th>8</th>\n",
              "      <th>9</th>\n",
              "      <th>10</th>\n",
              "      <th>11</th>\n",
              "      <th>12</th>\n",
              "      <th>13</th>\n",
              "      <th>14</th>\n",
              "      <th>15</th>\n",
              "      <th>16</th>\n",
              "      <th>17</th>\n",
              "      <th>18</th>\n",
              "      <th>19</th>\n",
              "      <th>...</th>\n",
              "      <th>9960</th>\n",
              "      <th>9961</th>\n",
              "      <th>9962</th>\n",
              "      <th>9963</th>\n",
              "      <th>9964</th>\n",
              "      <th>9965</th>\n",
              "      <th>9966</th>\n",
              "      <th>9967</th>\n",
              "      <th>9968</th>\n",
              "      <th>9969</th>\n",
              "      <th>9970</th>\n",
              "      <th>9971</th>\n",
              "      <th>9972</th>\n",
              "      <th>9973</th>\n",
              "      <th>9974</th>\n",
              "      <th>9975</th>\n",
              "      <th>9976</th>\n",
              "      <th>9977</th>\n",
              "      <th>9978</th>\n",
              "      <th>9979</th>\n",
              "      <th>9980</th>\n",
              "      <th>9981</th>\n",
              "      <th>9982</th>\n",
              "      <th>9983</th>\n",
              "      <th>9984</th>\n",
              "      <th>9985</th>\n",
              "      <th>9986</th>\n",
              "      <th>9987</th>\n",
              "      <th>9988</th>\n",
              "      <th>9989</th>\n",
              "      <th>9990</th>\n",
              "      <th>9991</th>\n",
              "      <th>9992</th>\n",
              "      <th>9993</th>\n",
              "      <th>9994</th>\n",
              "      <th>9995</th>\n",
              "      <th>9996</th>\n",
              "      <th>9997</th>\n",
              "      <th>9998</th>\n",
              "      <th>9999</th>\n",
              "    </tr>\n",
              "  </thead>\n",
              "  <tbody>\n",
              "    <tr>\n",
              "      <th>0</th>\n",
              "      <td>0.001282</td>\n",
              "      <td>0.001282</td>\n",
              "      <td>0.001282</td>\n",
              "      <td>0.001282</td>\n",
              "      <td>0.026923</td>\n",
              "      <td>0.076531</td>\n",
              "      <td>0.001282</td>\n",
              "      <td>0.083579</td>\n",
              "      <td>0.139903</td>\n",
              "      <td>0.026979</td>\n",
              "      <td>0.001282</td>\n",
              "      <td>0.001282</td>\n",
              "      <td>0.001282</td>\n",
              "      <td>0.084478</td>\n",
              "      <td>0.001282</td>\n",
              "      <td>0.001282</td>\n",
              "      <td>0.440511</td>\n",
              "      <td>0.031898</td>\n",
              "      <td>0.001282</td>\n",
              "      <td>0.075096</td>\n",
              "      <td>0.0</td>\n",
              "      <td>0.0</td>\n",
              "      <td>0.0</td>\n",
              "      <td>0.0</td>\n",
              "      <td>0.0</td>\n",
              "      <td>0.0</td>\n",
              "      <td>0.0</td>\n",
              "      <td>0.0</td>\n",
              "      <td>0.0</td>\n",
              "      <td>0.0</td>\n",
              "      <td>0.0</td>\n",
              "      <td>0.0</td>\n",
              "      <td>0.0</td>\n",
              "      <td>0.0</td>\n",
              "      <td>0.0</td>\n",
              "      <td>0.0</td>\n",
              "      <td>0.0</td>\n",
              "      <td>0.0</td>\n",
              "      <td>0.0</td>\n",
              "      <td>0.0</td>\n",
              "      <td>...</td>\n",
              "      <td>0</td>\n",
              "      <td>0</td>\n",
              "      <td>0</td>\n",
              "      <td>0</td>\n",
              "      <td>0</td>\n",
              "      <td>0</td>\n",
              "      <td>0</td>\n",
              "      <td>0</td>\n",
              "      <td>0</td>\n",
              "      <td>0</td>\n",
              "      <td>0</td>\n",
              "      <td>0</td>\n",
              "      <td>0</td>\n",
              "      <td>0</td>\n",
              "      <td>0</td>\n",
              "      <td>0</td>\n",
              "      <td>0</td>\n",
              "      <td>0</td>\n",
              "      <td>0</td>\n",
              "      <td>0</td>\n",
              "      <td>0</td>\n",
              "      <td>0</td>\n",
              "      <td>0</td>\n",
              "      <td>0</td>\n",
              "      <td>0</td>\n",
              "      <td>0</td>\n",
              "      <td>0</td>\n",
              "      <td>0</td>\n",
              "      <td>0</td>\n",
              "      <td>0</td>\n",
              "      <td>0</td>\n",
              "      <td>0</td>\n",
              "      <td>0</td>\n",
              "      <td>0</td>\n",
              "      <td>0</td>\n",
              "      <td>0</td>\n",
              "      <td>0</td>\n",
              "      <td>0</td>\n",
              "      <td>0</td>\n",
              "      <td>0</td>\n",
              "    </tr>\n",
              "    <tr>\n",
              "      <th>1</th>\n",
              "      <td>0.025000</td>\n",
              "      <td>0.165336</td>\n",
              "      <td>0.001190</td>\n",
              "      <td>0.048810</td>\n",
              "      <td>0.048810</td>\n",
              "      <td>0.086117</td>\n",
              "      <td>0.001190</td>\n",
              "      <td>0.092331</td>\n",
              "      <td>0.001190</td>\n",
              "      <td>0.001190</td>\n",
              "      <td>0.075887</td>\n",
              "      <td>0.001190</td>\n",
              "      <td>0.001190</td>\n",
              "      <td>0.001190</td>\n",
              "      <td>0.001190</td>\n",
              "      <td>0.001190</td>\n",
              "      <td>0.345069</td>\n",
              "      <td>0.099545</td>\n",
              "      <td>0.001190</td>\n",
              "      <td>0.001190</td>\n",
              "      <td>0.0</td>\n",
              "      <td>0.0</td>\n",
              "      <td>0.0</td>\n",
              "      <td>0.0</td>\n",
              "      <td>0.0</td>\n",
              "      <td>0.0</td>\n",
              "      <td>0.0</td>\n",
              "      <td>0.0</td>\n",
              "      <td>0.0</td>\n",
              "      <td>0.0</td>\n",
              "      <td>0.0</td>\n",
              "      <td>0.0</td>\n",
              "      <td>0.0</td>\n",
              "      <td>0.0</td>\n",
              "      <td>0.0</td>\n",
              "      <td>0.0</td>\n",
              "      <td>0.0</td>\n",
              "      <td>0.0</td>\n",
              "      <td>0.0</td>\n",
              "      <td>0.0</td>\n",
              "      <td>...</td>\n",
              "      <td>0</td>\n",
              "      <td>0</td>\n",
              "      <td>0</td>\n",
              "      <td>0</td>\n",
              "      <td>0</td>\n",
              "      <td>0</td>\n",
              "      <td>0</td>\n",
              "      <td>0</td>\n",
              "      <td>0</td>\n",
              "      <td>0</td>\n",
              "      <td>0</td>\n",
              "      <td>0</td>\n",
              "      <td>0</td>\n",
              "      <td>0</td>\n",
              "      <td>0</td>\n",
              "      <td>0</td>\n",
              "      <td>0</td>\n",
              "      <td>0</td>\n",
              "      <td>0</td>\n",
              "      <td>0</td>\n",
              "      <td>0</td>\n",
              "      <td>0</td>\n",
              "      <td>0</td>\n",
              "      <td>0</td>\n",
              "      <td>0</td>\n",
              "      <td>0</td>\n",
              "      <td>0</td>\n",
              "      <td>0</td>\n",
              "      <td>0</td>\n",
              "      <td>0</td>\n",
              "      <td>0</td>\n",
              "      <td>0</td>\n",
              "      <td>0</td>\n",
              "      <td>0</td>\n",
              "      <td>0</td>\n",
              "      <td>0</td>\n",
              "      <td>0</td>\n",
              "      <td>0</td>\n",
              "      <td>0</td>\n",
              "      <td>0</td>\n",
              "    </tr>\n",
              "    <tr>\n",
              "      <th>2</th>\n",
              "      <td>0.016667</td>\n",
              "      <td>0.016667</td>\n",
              "      <td>0.016667</td>\n",
              "      <td>0.016667</td>\n",
              "      <td>0.016667</td>\n",
              "      <td>0.016667</td>\n",
              "      <td>0.350000</td>\n",
              "      <td>0.016667</td>\n",
              "      <td>0.016667</td>\n",
              "      <td>0.016667</td>\n",
              "      <td>0.016667</td>\n",
              "      <td>0.016667</td>\n",
              "      <td>0.016667</td>\n",
              "      <td>0.016667</td>\n",
              "      <td>0.016667</td>\n",
              "      <td>0.016667</td>\n",
              "      <td>0.350000</td>\n",
              "      <td>0.016667</td>\n",
              "      <td>0.016667</td>\n",
              "      <td>0.016667</td>\n",
              "      <td>0.0</td>\n",
              "      <td>0.0</td>\n",
              "      <td>0.0</td>\n",
              "      <td>0.0</td>\n",
              "      <td>0.0</td>\n",
              "      <td>0.0</td>\n",
              "      <td>0.0</td>\n",
              "      <td>0.0</td>\n",
              "      <td>0.0</td>\n",
              "      <td>0.0</td>\n",
              "      <td>0.0</td>\n",
              "      <td>0.0</td>\n",
              "      <td>0.0</td>\n",
              "      <td>0.0</td>\n",
              "      <td>0.0</td>\n",
              "      <td>0.0</td>\n",
              "      <td>0.0</td>\n",
              "      <td>0.0</td>\n",
              "      <td>0.0</td>\n",
              "      <td>0.0</td>\n",
              "      <td>...</td>\n",
              "      <td>0</td>\n",
              "      <td>0</td>\n",
              "      <td>0</td>\n",
              "      <td>0</td>\n",
              "      <td>0</td>\n",
              "      <td>0</td>\n",
              "      <td>0</td>\n",
              "      <td>0</td>\n",
              "      <td>1</td>\n",
              "      <td>0</td>\n",
              "      <td>0</td>\n",
              "      <td>0</td>\n",
              "      <td>0</td>\n",
              "      <td>0</td>\n",
              "      <td>0</td>\n",
              "      <td>0</td>\n",
              "      <td>0</td>\n",
              "      <td>0</td>\n",
              "      <td>0</td>\n",
              "      <td>0</td>\n",
              "      <td>0</td>\n",
              "      <td>0</td>\n",
              "      <td>0</td>\n",
              "      <td>0</td>\n",
              "      <td>0</td>\n",
              "      <td>0</td>\n",
              "      <td>0</td>\n",
              "      <td>0</td>\n",
              "      <td>0</td>\n",
              "      <td>0</td>\n",
              "      <td>0</td>\n",
              "      <td>0</td>\n",
              "      <td>0</td>\n",
              "      <td>0</td>\n",
              "      <td>0</td>\n",
              "      <td>0</td>\n",
              "      <td>0</td>\n",
              "      <td>0</td>\n",
              "      <td>0</td>\n",
              "      <td>0</td>\n",
              "    </tr>\n",
              "    <tr>\n",
              "      <th>3</th>\n",
              "      <td>0.005637</td>\n",
              "      <td>0.105544</td>\n",
              "      <td>0.014334</td>\n",
              "      <td>0.004326</td>\n",
              "      <td>0.003518</td>\n",
              "      <td>0.054112</td>\n",
              "      <td>0.082253</td>\n",
              "      <td>0.062730</td>\n",
              "      <td>0.059686</td>\n",
              "      <td>0.047670</td>\n",
              "      <td>0.030803</td>\n",
              "      <td>0.004365</td>\n",
              "      <td>0.014584</td>\n",
              "      <td>0.065705</td>\n",
              "      <td>0.013545</td>\n",
              "      <td>0.003512</td>\n",
              "      <td>0.300332</td>\n",
              "      <td>0.056023</td>\n",
              "      <td>0.044213</td>\n",
              "      <td>0.027109</td>\n",
              "      <td>0.0</td>\n",
              "      <td>0.0</td>\n",
              "      <td>0.0</td>\n",
              "      <td>0.0</td>\n",
              "      <td>0.0</td>\n",
              "      <td>0.0</td>\n",
              "      <td>0.0</td>\n",
              "      <td>0.0</td>\n",
              "      <td>0.0</td>\n",
              "      <td>0.0</td>\n",
              "      <td>0.0</td>\n",
              "      <td>0.0</td>\n",
              "      <td>0.0</td>\n",
              "      <td>0.0</td>\n",
              "      <td>0.0</td>\n",
              "      <td>0.0</td>\n",
              "      <td>0.0</td>\n",
              "      <td>0.0</td>\n",
              "      <td>0.0</td>\n",
              "      <td>0.0</td>\n",
              "      <td>...</td>\n",
              "      <td>0</td>\n",
              "      <td>0</td>\n",
              "      <td>0</td>\n",
              "      <td>0</td>\n",
              "      <td>0</td>\n",
              "      <td>0</td>\n",
              "      <td>0</td>\n",
              "      <td>0</td>\n",
              "      <td>0</td>\n",
              "      <td>0</td>\n",
              "      <td>0</td>\n",
              "      <td>1</td>\n",
              "      <td>0</td>\n",
              "      <td>0</td>\n",
              "      <td>0</td>\n",
              "      <td>1</td>\n",
              "      <td>0</td>\n",
              "      <td>1</td>\n",
              "      <td>0</td>\n",
              "      <td>0</td>\n",
              "      <td>0</td>\n",
              "      <td>0</td>\n",
              "      <td>0</td>\n",
              "      <td>0</td>\n",
              "      <td>0</td>\n",
              "      <td>0</td>\n",
              "      <td>0</td>\n",
              "      <td>0</td>\n",
              "      <td>0</td>\n",
              "      <td>0</td>\n",
              "      <td>0</td>\n",
              "      <td>0</td>\n",
              "      <td>0</td>\n",
              "      <td>1</td>\n",
              "      <td>0</td>\n",
              "      <td>0</td>\n",
              "      <td>0</td>\n",
              "      <td>0</td>\n",
              "      <td>0</td>\n",
              "      <td>0</td>\n",
              "    </tr>\n",
              "    <tr>\n",
              "      <th>4</th>\n",
              "      <td>0.004167</td>\n",
              "      <td>0.004167</td>\n",
              "      <td>0.004167</td>\n",
              "      <td>0.176619</td>\n",
              "      <td>0.004167</td>\n",
              "      <td>0.260353</td>\n",
              "      <td>0.004167</td>\n",
              "      <td>0.004167</td>\n",
              "      <td>0.004167</td>\n",
              "      <td>0.004167</td>\n",
              "      <td>0.004167</td>\n",
              "      <td>0.004167</td>\n",
              "      <td>0.004167</td>\n",
              "      <td>0.004167</td>\n",
              "      <td>0.004167</td>\n",
              "      <td>0.004167</td>\n",
              "      <td>0.337930</td>\n",
              "      <td>0.158432</td>\n",
              "      <td>0.004167</td>\n",
              "      <td>0.004167</td>\n",
              "      <td>0.0</td>\n",
              "      <td>0.0</td>\n",
              "      <td>0.0</td>\n",
              "      <td>0.0</td>\n",
              "      <td>0.0</td>\n",
              "      <td>0.0</td>\n",
              "      <td>0.0</td>\n",
              "      <td>0.0</td>\n",
              "      <td>0.0</td>\n",
              "      <td>0.0</td>\n",
              "      <td>0.0</td>\n",
              "      <td>0.0</td>\n",
              "      <td>0.0</td>\n",
              "      <td>0.0</td>\n",
              "      <td>0.0</td>\n",
              "      <td>0.0</td>\n",
              "      <td>0.0</td>\n",
              "      <td>0.0</td>\n",
              "      <td>0.0</td>\n",
              "      <td>0.0</td>\n",
              "      <td>...</td>\n",
              "      <td>0</td>\n",
              "      <td>0</td>\n",
              "      <td>0</td>\n",
              "      <td>0</td>\n",
              "      <td>0</td>\n",
              "      <td>0</td>\n",
              "      <td>0</td>\n",
              "      <td>0</td>\n",
              "      <td>0</td>\n",
              "      <td>0</td>\n",
              "      <td>0</td>\n",
              "      <td>0</td>\n",
              "      <td>0</td>\n",
              "      <td>0</td>\n",
              "      <td>0</td>\n",
              "      <td>0</td>\n",
              "      <td>0</td>\n",
              "      <td>0</td>\n",
              "      <td>0</td>\n",
              "      <td>0</td>\n",
              "      <td>0</td>\n",
              "      <td>0</td>\n",
              "      <td>0</td>\n",
              "      <td>0</td>\n",
              "      <td>0</td>\n",
              "      <td>0</td>\n",
              "      <td>0</td>\n",
              "      <td>0</td>\n",
              "      <td>0</td>\n",
              "      <td>0</td>\n",
              "      <td>0</td>\n",
              "      <td>0</td>\n",
              "      <td>0</td>\n",
              "      <td>0</td>\n",
              "      <td>0</td>\n",
              "      <td>0</td>\n",
              "      <td>0</td>\n",
              "      <td>0</td>\n",
              "      <td>0</td>\n",
              "      <td>0</td>\n",
              "    </tr>\n",
              "    <tr>\n",
              "      <th>...</th>\n",
              "      <td>...</td>\n",
              "      <td>...</td>\n",
              "      <td>...</td>\n",
              "      <td>...</td>\n",
              "      <td>...</td>\n",
              "      <td>...</td>\n",
              "      <td>...</td>\n",
              "      <td>...</td>\n",
              "      <td>...</td>\n",
              "      <td>...</td>\n",
              "      <td>...</td>\n",
              "      <td>...</td>\n",
              "      <td>...</td>\n",
              "      <td>...</td>\n",
              "      <td>...</td>\n",
              "      <td>...</td>\n",
              "      <td>...</td>\n",
              "      <td>...</td>\n",
              "      <td>...</td>\n",
              "      <td>...</td>\n",
              "      <td>...</td>\n",
              "      <td>...</td>\n",
              "      <td>...</td>\n",
              "      <td>...</td>\n",
              "      <td>...</td>\n",
              "      <td>...</td>\n",
              "      <td>...</td>\n",
              "      <td>...</td>\n",
              "      <td>...</td>\n",
              "      <td>...</td>\n",
              "      <td>...</td>\n",
              "      <td>...</td>\n",
              "      <td>...</td>\n",
              "      <td>...</td>\n",
              "      <td>...</td>\n",
              "      <td>...</td>\n",
              "      <td>...</td>\n",
              "      <td>...</td>\n",
              "      <td>...</td>\n",
              "      <td>...</td>\n",
              "      <td>...</td>\n",
              "      <td>...</td>\n",
              "      <td>...</td>\n",
              "      <td>...</td>\n",
              "      <td>...</td>\n",
              "      <td>...</td>\n",
              "      <td>...</td>\n",
              "      <td>...</td>\n",
              "      <td>...</td>\n",
              "      <td>...</td>\n",
              "      <td>...</td>\n",
              "      <td>...</td>\n",
              "      <td>...</td>\n",
              "      <td>...</td>\n",
              "      <td>...</td>\n",
              "      <td>...</td>\n",
              "      <td>...</td>\n",
              "      <td>...</td>\n",
              "      <td>...</td>\n",
              "      <td>...</td>\n",
              "      <td>...</td>\n",
              "      <td>...</td>\n",
              "      <td>...</td>\n",
              "      <td>...</td>\n",
              "      <td>...</td>\n",
              "      <td>...</td>\n",
              "      <td>...</td>\n",
              "      <td>...</td>\n",
              "      <td>...</td>\n",
              "      <td>...</td>\n",
              "      <td>...</td>\n",
              "      <td>...</td>\n",
              "      <td>...</td>\n",
              "      <td>...</td>\n",
              "      <td>...</td>\n",
              "      <td>...</td>\n",
              "      <td>...</td>\n",
              "      <td>...</td>\n",
              "      <td>...</td>\n",
              "      <td>...</td>\n",
              "      <td>...</td>\n",
              "    </tr>\n",
              "    <tr>\n",
              "      <th>7527</th>\n",
              "      <td>0.020536</td>\n",
              "      <td>0.051063</td>\n",
              "      <td>0.014189</td>\n",
              "      <td>0.000676</td>\n",
              "      <td>0.000676</td>\n",
              "      <td>0.050490</td>\n",
              "      <td>0.086783</td>\n",
              "      <td>0.082834</td>\n",
              "      <td>0.058868</td>\n",
              "      <td>0.039449</td>\n",
              "      <td>0.032331</td>\n",
              "      <td>0.000676</td>\n",
              "      <td>0.000676</td>\n",
              "      <td>0.109286</td>\n",
              "      <td>0.000676</td>\n",
              "      <td>0.000676</td>\n",
              "      <td>0.305350</td>\n",
              "      <td>0.047475</td>\n",
              "      <td>0.041216</td>\n",
              "      <td>0.056074</td>\n",
              "      <td>0.0</td>\n",
              "      <td>0.0</td>\n",
              "      <td>0.0</td>\n",
              "      <td>0.0</td>\n",
              "      <td>0.0</td>\n",
              "      <td>0.0</td>\n",
              "      <td>0.0</td>\n",
              "      <td>0.0</td>\n",
              "      <td>0.0</td>\n",
              "      <td>0.0</td>\n",
              "      <td>0.0</td>\n",
              "      <td>0.0</td>\n",
              "      <td>0.0</td>\n",
              "      <td>0.0</td>\n",
              "      <td>0.0</td>\n",
              "      <td>0.0</td>\n",
              "      <td>0.0</td>\n",
              "      <td>0.0</td>\n",
              "      <td>0.0</td>\n",
              "      <td>0.0</td>\n",
              "      <td>...</td>\n",
              "      <td>0</td>\n",
              "      <td>0</td>\n",
              "      <td>0</td>\n",
              "      <td>0</td>\n",
              "      <td>0</td>\n",
              "      <td>0</td>\n",
              "      <td>0</td>\n",
              "      <td>0</td>\n",
              "      <td>0</td>\n",
              "      <td>0</td>\n",
              "      <td>0</td>\n",
              "      <td>0</td>\n",
              "      <td>0</td>\n",
              "      <td>0</td>\n",
              "      <td>0</td>\n",
              "      <td>0</td>\n",
              "      <td>0</td>\n",
              "      <td>0</td>\n",
              "      <td>0</td>\n",
              "      <td>0</td>\n",
              "      <td>0</td>\n",
              "      <td>0</td>\n",
              "      <td>0</td>\n",
              "      <td>0</td>\n",
              "      <td>0</td>\n",
              "      <td>0</td>\n",
              "      <td>0</td>\n",
              "      <td>0</td>\n",
              "      <td>0</td>\n",
              "      <td>0</td>\n",
              "      <td>0</td>\n",
              "      <td>0</td>\n",
              "      <td>0</td>\n",
              "      <td>0</td>\n",
              "      <td>0</td>\n",
              "      <td>0</td>\n",
              "      <td>0</td>\n",
              "      <td>0</td>\n",
              "      <td>0</td>\n",
              "      <td>0</td>\n",
              "    </tr>\n",
              "    <tr>\n",
              "      <th>7528</th>\n",
              "      <td>0.007143</td>\n",
              "      <td>0.007143</td>\n",
              "      <td>0.007143</td>\n",
              "      <td>0.007143</td>\n",
              "      <td>0.007143</td>\n",
              "      <td>0.007143</td>\n",
              "      <td>0.007143</td>\n",
              "      <td>0.578571</td>\n",
              "      <td>0.007143</td>\n",
              "      <td>0.007143</td>\n",
              "      <td>0.150000</td>\n",
              "      <td>0.007143</td>\n",
              "      <td>0.150000</td>\n",
              "      <td>0.007143</td>\n",
              "      <td>0.007143</td>\n",
              "      <td>0.007143</td>\n",
              "      <td>0.007143</td>\n",
              "      <td>0.007143</td>\n",
              "      <td>0.007143</td>\n",
              "      <td>0.007143</td>\n",
              "      <td>0.0</td>\n",
              "      <td>0.0</td>\n",
              "      <td>0.0</td>\n",
              "      <td>0.0</td>\n",
              "      <td>0.0</td>\n",
              "      <td>0.0</td>\n",
              "      <td>0.0</td>\n",
              "      <td>0.0</td>\n",
              "      <td>0.0</td>\n",
              "      <td>0.0</td>\n",
              "      <td>0.0</td>\n",
              "      <td>0.0</td>\n",
              "      <td>0.0</td>\n",
              "      <td>0.0</td>\n",
              "      <td>0.0</td>\n",
              "      <td>0.0</td>\n",
              "      <td>0.0</td>\n",
              "      <td>0.0</td>\n",
              "      <td>0.0</td>\n",
              "      <td>0.0</td>\n",
              "      <td>...</td>\n",
              "      <td>0</td>\n",
              "      <td>0</td>\n",
              "      <td>0</td>\n",
              "      <td>0</td>\n",
              "      <td>0</td>\n",
              "      <td>0</td>\n",
              "      <td>0</td>\n",
              "      <td>0</td>\n",
              "      <td>0</td>\n",
              "      <td>0</td>\n",
              "      <td>0</td>\n",
              "      <td>0</td>\n",
              "      <td>0</td>\n",
              "      <td>0</td>\n",
              "      <td>0</td>\n",
              "      <td>0</td>\n",
              "      <td>0</td>\n",
              "      <td>0</td>\n",
              "      <td>0</td>\n",
              "      <td>0</td>\n",
              "      <td>0</td>\n",
              "      <td>0</td>\n",
              "      <td>0</td>\n",
              "      <td>0</td>\n",
              "      <td>0</td>\n",
              "      <td>0</td>\n",
              "      <td>0</td>\n",
              "      <td>0</td>\n",
              "      <td>0</td>\n",
              "      <td>0</td>\n",
              "      <td>0</td>\n",
              "      <td>0</td>\n",
              "      <td>0</td>\n",
              "      <td>0</td>\n",
              "      <td>0</td>\n",
              "      <td>0</td>\n",
              "      <td>0</td>\n",
              "      <td>0</td>\n",
              "      <td>0</td>\n",
              "      <td>0</td>\n",
              "    </tr>\n",
              "    <tr>\n",
              "      <th>7529</th>\n",
              "      <td>0.001111</td>\n",
              "      <td>0.179951</td>\n",
              "      <td>0.001111</td>\n",
              "      <td>0.067778</td>\n",
              "      <td>0.001111</td>\n",
              "      <td>0.075955</td>\n",
              "      <td>0.110217</td>\n",
              "      <td>0.156368</td>\n",
              "      <td>0.001111</td>\n",
              "      <td>0.001111</td>\n",
              "      <td>0.040296</td>\n",
              "      <td>0.001111</td>\n",
              "      <td>0.001111</td>\n",
              "      <td>0.063511</td>\n",
              "      <td>0.001111</td>\n",
              "      <td>0.001111</td>\n",
              "      <td>0.156588</td>\n",
              "      <td>0.001111</td>\n",
              "      <td>0.067778</td>\n",
              "      <td>0.070448</td>\n",
              "      <td>0.0</td>\n",
              "      <td>0.0</td>\n",
              "      <td>0.0</td>\n",
              "      <td>0.0</td>\n",
              "      <td>0.0</td>\n",
              "      <td>0.0</td>\n",
              "      <td>0.0</td>\n",
              "      <td>0.0</td>\n",
              "      <td>0.0</td>\n",
              "      <td>0.0</td>\n",
              "      <td>0.0</td>\n",
              "      <td>0.0</td>\n",
              "      <td>0.0</td>\n",
              "      <td>0.0</td>\n",
              "      <td>0.0</td>\n",
              "      <td>0.0</td>\n",
              "      <td>0.0</td>\n",
              "      <td>0.0</td>\n",
              "      <td>0.0</td>\n",
              "      <td>0.0</td>\n",
              "      <td>...</td>\n",
              "      <td>0</td>\n",
              "      <td>0</td>\n",
              "      <td>0</td>\n",
              "      <td>0</td>\n",
              "      <td>0</td>\n",
              "      <td>0</td>\n",
              "      <td>0</td>\n",
              "      <td>0</td>\n",
              "      <td>0</td>\n",
              "      <td>0</td>\n",
              "      <td>0</td>\n",
              "      <td>0</td>\n",
              "      <td>0</td>\n",
              "      <td>0</td>\n",
              "      <td>0</td>\n",
              "      <td>0</td>\n",
              "      <td>0</td>\n",
              "      <td>0</td>\n",
              "      <td>0</td>\n",
              "      <td>0</td>\n",
              "      <td>0</td>\n",
              "      <td>0</td>\n",
              "      <td>0</td>\n",
              "      <td>0</td>\n",
              "      <td>0</td>\n",
              "      <td>0</td>\n",
              "      <td>0</td>\n",
              "      <td>0</td>\n",
              "      <td>0</td>\n",
              "      <td>0</td>\n",
              "      <td>0</td>\n",
              "      <td>0</td>\n",
              "      <td>0</td>\n",
              "      <td>0</td>\n",
              "      <td>0</td>\n",
              "      <td>0</td>\n",
              "      <td>0</td>\n",
              "      <td>0</td>\n",
              "      <td>0</td>\n",
              "      <td>0</td>\n",
              "    </tr>\n",
              "    <tr>\n",
              "      <th>7530</th>\n",
              "      <td>0.000847</td>\n",
              "      <td>0.000847</td>\n",
              "      <td>0.080798</td>\n",
              "      <td>0.046590</td>\n",
              "      <td>0.000847</td>\n",
              "      <td>0.059427</td>\n",
              "      <td>0.000847</td>\n",
              "      <td>0.116861</td>\n",
              "      <td>0.182734</td>\n",
              "      <td>0.019729</td>\n",
              "      <td>0.000847</td>\n",
              "      <td>0.000847</td>\n",
              "      <td>0.000847</td>\n",
              "      <td>0.044405</td>\n",
              "      <td>0.000847</td>\n",
              "      <td>0.000847</td>\n",
              "      <td>0.327268</td>\n",
              "      <td>0.112865</td>\n",
              "      <td>0.000847</td>\n",
              "      <td>0.000847</td>\n",
              "      <td>0.0</td>\n",
              "      <td>0.0</td>\n",
              "      <td>0.0</td>\n",
              "      <td>0.0</td>\n",
              "      <td>0.0</td>\n",
              "      <td>0.0</td>\n",
              "      <td>0.0</td>\n",
              "      <td>0.0</td>\n",
              "      <td>0.0</td>\n",
              "      <td>0.0</td>\n",
              "      <td>0.0</td>\n",
              "      <td>0.0</td>\n",
              "      <td>0.0</td>\n",
              "      <td>0.0</td>\n",
              "      <td>0.0</td>\n",
              "      <td>0.0</td>\n",
              "      <td>0.0</td>\n",
              "      <td>0.0</td>\n",
              "      <td>0.0</td>\n",
              "      <td>0.0</td>\n",
              "      <td>...</td>\n",
              "      <td>0</td>\n",
              "      <td>0</td>\n",
              "      <td>0</td>\n",
              "      <td>0</td>\n",
              "      <td>0</td>\n",
              "      <td>0</td>\n",
              "      <td>0</td>\n",
              "      <td>0</td>\n",
              "      <td>0</td>\n",
              "      <td>0</td>\n",
              "      <td>0</td>\n",
              "      <td>0</td>\n",
              "      <td>0</td>\n",
              "      <td>0</td>\n",
              "      <td>0</td>\n",
              "      <td>0</td>\n",
              "      <td>0</td>\n",
              "      <td>0</td>\n",
              "      <td>0</td>\n",
              "      <td>0</td>\n",
              "      <td>0</td>\n",
              "      <td>0</td>\n",
              "      <td>0</td>\n",
              "      <td>0</td>\n",
              "      <td>0</td>\n",
              "      <td>0</td>\n",
              "      <td>0</td>\n",
              "      <td>0</td>\n",
              "      <td>0</td>\n",
              "      <td>0</td>\n",
              "      <td>0</td>\n",
              "      <td>0</td>\n",
              "      <td>0</td>\n",
              "      <td>0</td>\n",
              "      <td>0</td>\n",
              "      <td>0</td>\n",
              "      <td>0</td>\n",
              "      <td>0</td>\n",
              "      <td>0</td>\n",
              "      <td>0</td>\n",
              "    </tr>\n",
              "    <tr>\n",
              "      <th>7531</th>\n",
              "      <td>0.001786</td>\n",
              "      <td>0.052737</td>\n",
              "      <td>0.001786</td>\n",
              "      <td>0.001786</td>\n",
              "      <td>0.001786</td>\n",
              "      <td>0.001786</td>\n",
              "      <td>0.001786</td>\n",
              "      <td>0.001786</td>\n",
              "      <td>0.001786</td>\n",
              "      <td>0.041082</td>\n",
              "      <td>0.073143</td>\n",
              "      <td>0.001786</td>\n",
              "      <td>0.001786</td>\n",
              "      <td>0.076982</td>\n",
              "      <td>0.001786</td>\n",
              "      <td>0.001786</td>\n",
              "      <td>0.516150</td>\n",
              "      <td>0.143479</td>\n",
              "      <td>0.073214</td>\n",
              "      <td>0.001786</td>\n",
              "      <td>0.0</td>\n",
              "      <td>0.0</td>\n",
              "      <td>0.0</td>\n",
              "      <td>0.0</td>\n",
              "      <td>0.0</td>\n",
              "      <td>0.0</td>\n",
              "      <td>0.0</td>\n",
              "      <td>0.0</td>\n",
              "      <td>0.0</td>\n",
              "      <td>0.0</td>\n",
              "      <td>0.0</td>\n",
              "      <td>0.0</td>\n",
              "      <td>0.0</td>\n",
              "      <td>0.0</td>\n",
              "      <td>0.0</td>\n",
              "      <td>0.0</td>\n",
              "      <td>0.0</td>\n",
              "      <td>0.0</td>\n",
              "      <td>0.0</td>\n",
              "      <td>0.0</td>\n",
              "      <td>...</td>\n",
              "      <td>0</td>\n",
              "      <td>0</td>\n",
              "      <td>0</td>\n",
              "      <td>0</td>\n",
              "      <td>0</td>\n",
              "      <td>0</td>\n",
              "      <td>0</td>\n",
              "      <td>0</td>\n",
              "      <td>0</td>\n",
              "      <td>0</td>\n",
              "      <td>0</td>\n",
              "      <td>0</td>\n",
              "      <td>0</td>\n",
              "      <td>0</td>\n",
              "      <td>0</td>\n",
              "      <td>0</td>\n",
              "      <td>0</td>\n",
              "      <td>0</td>\n",
              "      <td>0</td>\n",
              "      <td>0</td>\n",
              "      <td>0</td>\n",
              "      <td>0</td>\n",
              "      <td>0</td>\n",
              "      <td>0</td>\n",
              "      <td>0</td>\n",
              "      <td>0</td>\n",
              "      <td>0</td>\n",
              "      <td>0</td>\n",
              "      <td>0</td>\n",
              "      <td>0</td>\n",
              "      <td>0</td>\n",
              "      <td>0</td>\n",
              "      <td>0</td>\n",
              "      <td>0</td>\n",
              "      <td>0</td>\n",
              "      <td>0</td>\n",
              "      <td>0</td>\n",
              "      <td>0</td>\n",
              "      <td>0</td>\n",
              "      <td>0</td>\n",
              "    </tr>\n",
              "  </tbody>\n",
              "</table>\n",
              "<p>7532 rows × 20020 columns</p>\n",
              "</div>"
            ],
            "text/plain": [
              "          0         1         2         3     ...  9996  9997  9998  9999\n",
              "0     0.001282  0.001282  0.001282  0.001282  ...     0     0     0     0\n",
              "1     0.025000  0.165336  0.001190  0.048810  ...     0     0     0     0\n",
              "2     0.016667  0.016667  0.016667  0.016667  ...     0     0     0     0\n",
              "3     0.005637  0.105544  0.014334  0.004326  ...     0     0     0     0\n",
              "4     0.004167  0.004167  0.004167  0.176619  ...     0     0     0     0\n",
              "...        ...       ...       ...       ...  ...   ...   ...   ...   ...\n",
              "7527  0.020536  0.051063  0.014189  0.000676  ...     0     0     0     0\n",
              "7528  0.007143  0.007143  0.007143  0.007143  ...     0     0     0     0\n",
              "7529  0.001111  0.179951  0.001111  0.067778  ...     0     0     0     0\n",
              "7530  0.000847  0.000847  0.080798  0.046590  ...     0     0     0     0\n",
              "7531  0.001786  0.052737  0.001786  0.001786  ...     0     0     0     0\n",
              "\n",
              "[7532 rows x 20020 columns]"
            ]
          },
          "metadata": {
            "tags": []
          },
          "execution_count": 186
        }
      ]
    },
    {
      "cell_type": "code",
      "metadata": {
        "id": "cbjdmWoeL7ot"
      },
      "source": [
        "y_pred_test = final_model.predict(X_test)"
      ],
      "execution_count": 188,
      "outputs": []
    },
    {
      "cell_type": "code",
      "metadata": {
        "colab": {
          "base_uri": "https://localhost:8080/"
        },
        "id": "uZ1DWlTeMPLm",
        "outputId": "ea0e0876-0665-4bcc-abb1-1cf6b2a5a45b"
      },
      "source": [
        "y_pred_test"
      ],
      "execution_count": 172,
      "outputs": [
        {
          "output_type": "execute_result",
          "data": {
            "text/plain": [
              "array([ 1.,  5., 14., ..., 16.,  5., 17.])"
            ]
          },
          "metadata": {
            "tags": []
          },
          "execution_count": 172
        }
      ]
    },
    {
      "cell_type": "code",
      "metadata": {
        "id": "vGA8PkQgMVx_"
      },
      "source": [
        "y_true_labels = newsgroups_test.target"
      ],
      "execution_count": 173,
      "outputs": []
    },
    {
      "cell_type": "code",
      "metadata": {
        "id": "V2AkSJxCOYYp"
      },
      "source": [
        "from sklearn.metrics import f1_score\n",
        "from sklearn.metrics import multilabel_confusion_matrix\n",
        "from sklearn.metrics import plot_confusion_matrix"
      ],
      "execution_count": 174,
      "outputs": []
    },
    {
      "cell_type": "code",
      "metadata": {
        "id": "2-djX3wgPDUv"
      },
      "source": [
        "conf_mat_ssl = multilabel_confusion_matrix(y_true_labels, y_pred_test)"
      ],
      "execution_count": 175,
      "outputs": []
    },
    {
      "cell_type": "code",
      "metadata": {
        "id": "MoH4BsxmPfpL"
      },
      "source": [
        "#conf_mat_ssl"
      ],
      "execution_count": null,
      "outputs": []
    },
    {
      "cell_type": "code",
      "metadata": {
        "colab": {
          "base_uri": "https://localhost:8080/",
          "height": 296
        },
        "id": "-zs87cs9QJt1",
        "outputId": "b3589eb1-9a91-4ac0-c4eb-d118e121e523"
      },
      "source": [
        "plot_confusion_matrix(final_model, X_test, y_true_labels) \n",
        "from matplotlib.pyplot import figure\n",
        "figure(figsize=(40, 40), dpi=80)\n",
        "plt.show()  "
      ],
      "execution_count": 176,
      "outputs": [
        {
          "output_type": "display_data",
          "data": {
            "image/png": "[encoded data removed]",
            "text/plain": [
              "<Figure size 432x288 with 2 Axes>"
            ]
          },
          "metadata": {
            "tags": [],
            "needs_background": "light"
          }
        },
        {
          "output_type": "display_data",
          "data": {
            "text/plain": [
              "<Figure size 3200x3200 with 0 Axes>"
            ]
          },
          "metadata": {
            "tags": []
          }
        }
      ]
    },
    {
      "cell_type": "code",
      "metadata": {
        "id": "cXUEJ7RtQ4AR"
      },
      "source": [
        "y_pred_test_supervised = clf.predict(X_test)"
      ],
      "execution_count": 189,
      "outputs": []
    },
    {
      "cell_type": "code",
      "metadata": {
        "id": "qgiRE4FJTbvM"
      },
      "source": [
        "conf_mat_ssl = multilabel_confusion_matrix(y_true_labels, y_pred_test_supervised)"
      ],
      "execution_count": 178,
      "outputs": []
    },
    {
      "cell_type": "code",
      "metadata": {
        "id": "KfD3Ogp0Tj6a",
        "colab": {
          "base_uri": "https://localhost:8080/",
          "height": 296
        },
        "outputId": "de8283ee-868f-4312-f4c7-96223a540f3d"
      },
      "source": [
        "plot_confusion_matrix(clf, X_test, y_true_labels)  \n",
        "#from matplotlib.pyplot import figure\n",
        "#figure(figsize=(100, 100))\n",
        "#plt.show()  "
      ],
      "execution_count": 179,
      "outputs": [
        {
          "output_type": "execute_result",
          "data": {
            "text/plain": [
              "<sklearn.metrics._plot.confusion_matrix.ConfusionMatrixDisplay at 0x7f9c0d2bae50>"
            ]
          },
          "metadata": {
            "tags": []
          },
          "execution_count": 179
        },
        {
          "output_type": "display_data",
          "data": {
            "image/png": "[encoded data removed]",
            "text/plain": [
              "<Figure size 432x288 with 2 Axes>"
            ]
          },
          "metadata": {
            "tags": [],
            "needs_background": "light"
          }
        }
      ]
    },
    {
      "cell_type": "code",
      "metadata": {
        "id": "dnJpddjYTokF"
      },
      "source": [
        "f1_sc = f1_score(y_true_labels, y_pred_test, average = 'macro')"
      ],
      "execution_count": 191,
      "outputs": []
    },
    {
      "cell_type": "code",
      "metadata": {
        "id": "LMjj_UWCT8dV",
        "colab": {
          "base_uri": "https://localhost:8080/"
        },
        "outputId": "970904e2-2880-4c1c-f1f4-801c984ab2af"
      },
      "source": [
        "f1_sc"
      ],
      "execution_count": 192,
      "outputs": [
        {
          "output_type": "execute_result",
          "data": {
            "text/plain": [
              "0.041959334528763284"
            ]
          },
          "metadata": {
            "tags": []
          },
          "execution_count": 192
        }
      ]
    },
    {
      "cell_type": "code",
      "metadata": {
        "id": "h4BmxtgJUK5p"
      },
      "source": [
        "f1_sc_ssl = f1_score(y_true_labels, y_pred_test_supervised, average = 'macro')"
      ],
      "execution_count": 193,
      "outputs": []
    },
    {
      "cell_type": "code",
      "metadata": {
        "id": "5mixFfMrUW0p",
        "colab": {
          "base_uri": "https://localhost:8080/"
        },
        "outputId": "192eee47-663d-4875-f324-82546bbf5bb9"
      },
      "source": [
        "f1_sc_ssl"
      ],
      "execution_count": 195,
      "outputs": [
        {
          "output_type": "execute_result",
          "data": {
            "text/plain": [
              "0.04962482415023303"
            ]
          },
          "metadata": {
            "tags": []
          },
          "execution_count": 195
        }
      ]
    },
    {
      "cell_type": "code",
      "metadata": {
        "id": "-fWAAqzmUZrN",
        "colab": {
          "base_uri": "https://localhost:8080/"
        },
        "outputId": "d3cc6940-ebd8-43b3-b006-093749c8a87c"
      },
      "source": [
        "from sklearn.metrics import classification_report\n",
        "\n",
        "print(classification_report(y_true_labels, y_pred_test))"
      ],
      "execution_count": 196,
      "outputs": [
        {
          "output_type": "stream",
          "text": [
            "              precision    recall  f1-score   support\n",
            "\n",
            "           0       0.03      0.08      0.04       319\n",
            "           1       0.05      0.01      0.02       389\n",
            "           2       0.07      0.15      0.10       394\n",
            "           3       0.02      0.01      0.01       392\n",
            "           4       0.05      0.03      0.03       385\n",
            "           5       0.06      0.10      0.07       395\n",
            "           6       0.14      0.03      0.04       390\n",
            "           7       0.03      0.03      0.03       396\n",
            "           8       0.05      0.01      0.02       398\n",
            "           9       0.06      0.03      0.04       397\n",
            "          10       0.08      0.02      0.03       399\n",
            "          11       0.05      0.04      0.05       396\n",
            "          12       0.08      0.01      0.02       393\n",
            "          13       0.06      0.06      0.06       396\n",
            "          14       0.04      0.09      0.05       394\n",
            "          15       0.06      0.15      0.08       398\n",
            "          16       0.04      0.04      0.04       364\n",
            "          17       0.05      0.11      0.07       376\n",
            "          18       0.03      0.03      0.03       310\n",
            "          19       0.03      0.00      0.01       251\n",
            "\n",
            "    accuracy                           0.05      7532\n",
            "   macro avg       0.05      0.05      0.04      7532\n",
            "weighted avg       0.06      0.05      0.04      7532\n",
            "\n"
          ],
          "name": "stdout"
        }
      ]
    }
  ]
}